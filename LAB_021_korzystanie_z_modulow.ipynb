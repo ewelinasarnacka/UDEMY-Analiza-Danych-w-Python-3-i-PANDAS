{
 "cells": [
  {
   "cell_type": "markdown",
   "metadata": {},
   "source": [
    "# LAB 21\n",
    "S02-L001-LAB Korzystanie z modulow\n",
    "1. Zaimportuj moduły: pandas, numpy, matplotlib (tylko pyplot), math i nadaj im standardowe aliasy\n",
    "2. Wywołując \"magiczną funkcję\" zmień ustawienia tak, aby wykresy były wyświetlane w Jupyter Notebook\n",
    "3. Zdefiniuj tabelę days zawierającą liczby: 1,2,3,4,5\n",
    "4. Zdefiniuj tabelę amount zawierającą liczby: 1,5,20,450,700\n",
    "5. Narysuj wykres, który jako argumenty przyjmie tablicę days, a jako wartości tablicę amount\n",
    "6. Zmień wykres tak, aby wartości były zaznaczane niebieskimi kropkami zamiast domyślnej linii łączącej punkty.\n",
    "7. Korzystając z dostępnej w module numpy funkcji arange zdefinuj tabelę months zawierającą numery miesięcy od 1 do 12 i wyświetl tą tablicę\n",
    "8. Zdefiniuj tabelę income, której wartości bedą wyliczane na podstawie tabeli months wzorem: \n",
    "\n",
    "    100 + 3 * numer miesiąca\n",
    "    \n",
    "    (powinno być 12 wartości zaczynając od: 103, 106, 109 itd.). Wyświetl tą tablicę\n",
    "9. Wyświetl wykres, który jako argumenty przyjmie months, a wartości z tabeli income. Punkty danych mają się wyświetlić jako zielone kropki.\n",
    "10. Zdefiniuj tablice cost, której wartości bedą wyliczane na podstawie tabeli months wzorem:\n",
    "\n",
    "    50 + 10 * month 10.\n",
    "    \n",
    "11. Wyświetl wykres, w ktorym na osi X będą miesiące z tabeli months, prezentujący dwie serie danych: income i cost. Income powinien być prezentowany przez zielone kropki, a cost przez czerwone trójkąty\n",
    "12. Narysuj wykres funkcji 2^x (dwa do potęgi x), dla x z zakresu od -5 do 5 z dokładnością 0.1. Opisz osie: \n",
    "    1. X - \"Arguments\", \n",
    "    2. Y - \"Values\".\n",
    "    \n",
    "    W tym celu:\n",
    "    1. Zdefinuij tablicę x przyjmującą wartości -5, -4.9, -4.8....\n",
    "    2. Opisz osie korzystając z funkcji xlabel i ylabel\n",
    "    3. Narysuj wykres, skorzystaj z funkcji pow(2,x)"
   ]
  },
  {
   "cell_type": "markdown",
   "metadata": {},
   "source": [
    "## Exercise 1"
   ]
  },
  {
   "cell_type": "code",
   "execution_count": 1,
   "metadata": {},
   "outputs": [],
   "source": [
    "import pandas as pd\n",
    "import numpy as np\n",
    "import matplotlib.pyplot as plt \n",
    "#from matplotlib import pyplot as plt\n",
    "import math as math"
   ]
  },
  {
   "cell_type": "markdown",
   "metadata": {},
   "source": [
    "## Exercise 2"
   ]
  },
  {
   "cell_type": "code",
   "execution_count": 2,
   "metadata": {},
   "outputs": [],
   "source": [
    "#funkcja umożliwiająca wyświetlanie wykresów bezpośrednio w Jupyter Notebook\n",
    "%matplotlib inline"
   ]
  },
  {
   "cell_type": "markdown",
   "metadata": {},
   "source": [
    "## Exercise 3"
   ]
  },
  {
   "cell_type": "code",
   "execution_count": 3,
   "metadata": {},
   "outputs": [],
   "source": [
    "days=[]\n",
    "for i in range(1,6):\n",
    "    days.append(i)\n",
    "\n",
    "# lub:\n",
    "# days=[1,2,3,4,5]"
   ]
  },
  {
   "cell_type": "code",
   "execution_count": 7,
   "metadata": {},
   "outputs": [
    {
     "name": "stdout",
     "output_type": "stream",
     "text": [
      "   0\n",
      "0  1\n",
      "1  2\n",
      "2  3\n",
      "3  4\n",
      "4  5\n"
     ]
    },
    {
     "data": {
      "text/plain": [
       "pandas.core.frame.DataFrame"
      ]
     },
     "execution_count": 7,
     "metadata": {},
     "output_type": "execute_result"
    }
   ],
   "source": [
    "df_days = pd.DataFrame(days)\n",
    "print(df_days)\n",
    "type(df_days)"
   ]
  },
  {
   "cell_type": "markdown",
   "metadata": {},
   "source": [
    "## Exercise 4"
   ]
  },
  {
   "cell_type": "code",
   "execution_count": 4,
   "metadata": {},
   "outputs": [],
   "source": [
    "amount=[1,5,20,450,700]\n",
    "print(days, amount)"
   ]
  },
  {
   "cell_type": "markdown",
   "metadata": {},
   "source": [
    "## Exercise 5 & 6"
   ]
  },
  {
   "cell_type": "code",
   "execution_count": 9,
   "metadata": {},
   "outputs": [
    {
     "data": {
      "text/plain": [
       "[<matplotlib.lines.Line2D at 0x11d223e50>]"
      ]
     },
     "execution_count": 9,
     "metadata": {},
     "output_type": "execute_result"
    },
    {
     "data": {
      "image/png": "[encoded data removed]",
      "text/plain": [
       "<Figure size 432x288 with 1 Axes>"
      ]
     },
     "metadata": {
      "needs_background": "light"
     },
     "output_type": "display_data"
    }
   ],
   "source": [
    "plt.plot(days,amount, \"bs\")"
   ]
  },
  {
   "cell_type": "markdown",
   "metadata": {},
   "source": [
    "## Exercise 7"
   ]
  },
  {
   "cell_type": "code",
   "execution_count": 11,
   "metadata": {},
   "outputs": [
    {
     "name": "stdout",
     "output_type": "stream",
     "text": [
      "[ 1  2  3  4  5  6  7  8  9 10 11 12]\n"
     ]
    }
   ],
   "source": [
    "months=np.arange(1,13,1)\n",
    "print(months)"
   ]
  },
  {
   "cell_type": "markdown",
   "metadata": {},
   "source": [
    "## Exercise 8"
   ]
  },
  {
   "cell_type": "code",
   "execution_count": 13,
   "metadata": {},
   "outputs": [
    {
     "name": "stdout",
     "output_type": "stream",
     "text": [
      "[103 106 109 112 115 118 121 124 127 130 133 136]\n"
     ]
    }
   ],
   "source": [
    "income=100+3*months\n",
    "print(income)"
   ]
  },
  {
   "cell_type": "markdown",
   "metadata": {},
   "source": [
    "## Exercise 9"
   ]
  },
  {
   "cell_type": "code",
   "execution_count": 18,
   "metadata": {},
   "outputs": [
    {
     "data": {
      "text/plain": [
       "[<matplotlib.lines.Line2D at 0x11d89e610>]"
      ]
     },
     "execution_count": 18,
     "metadata": {},
     "output_type": "execute_result"
    },
    {
     "data": {
      "image/png": "[encoded data removed]",
      "text/plain": [
       "<Figure size 432x288 with 1 Axes>"
      ]
     },
     "metadata": {
      "needs_background": "light"
     },
     "output_type": "display_data"
    }
   ],
   "source": [
    "plt.plot(months,income,\"go\")"
   ]
  },
  {
   "cell_type": "markdown",
   "metadata": {},
   "source": [
    "## Exercise 10"
   ]
  },
  {
   "cell_type": "code",
   "execution_count": 21,
   "metadata": {},
   "outputs": [
    {
     "name": "stdout",
     "output_type": "stream",
     "text": [
      "[ 60  70  80  90 100 110 120 130 140 150 160 170]\n"
     ]
    }
   ],
   "source": [
    "cost = 50 + 10 * months\n",
    "print(cost)"
   ]
  },
  {
   "cell_type": "markdown",
   "metadata": {},
   "source": [
    "## Exercise 11"
   ]
  },
  {
   "cell_type": "code",
   "execution_count": 25,
   "metadata": {},
   "outputs": [
    {
     "data": {
      "text/plain": [
       "[<matplotlib.lines.Line2D at 0x11daa5a10>,\n",
       " <matplotlib.lines.Line2D at 0x11d9e4050>]"
      ]
     },
     "execution_count": 25,
     "metadata": {},
     "output_type": "execute_result"
    },
    {
     "data": {
      "image/png": "[encoded data removed]",
      "text/plain": [
       "<Figure size 432x288 with 1 Axes>"
      ]
     },
     "metadata": {
      "needs_background": "light"
     },
     "output_type": "display_data"
    }
   ],
   "source": [
    "plt.plot(months,income,\"go\", months,cost,\"r^\")"
   ]
  },
  {
   "cell_type": "markdown",
   "metadata": {},
   "source": [
    "## Exercise 12"
   ]
  },
  {
   "cell_type": "code",
   "execution_count": 34,
   "metadata": {},
   "outputs": [
    {
     "data": {
      "image/png": "[encoded data removed]",
      "text/plain": [
       "<Figure size 432x288 with 1 Axes>"
      ]
     },
     "metadata": {
      "needs_background": "light"
     },
     "output_type": "display_data"
    }
   ],
   "source": [
    "x = np.arange(-5,6,0.1)\n",
    "\n",
    "plt.xlabel(\"Agruments\")\n",
    "plt.ylabel(\"Values\")\n",
    "plt.plot(x, pow(2,x)) # lub: plt.plot(x, 2**x)\n",
    "plt.show()"
   ]
  }
 ],
 "metadata": {
  "kernelspec": {
   "display_name": "Python 3",
   "language": "python",
   "name": "python3"
  },
  "language_info": {
   "codemirror_mode": {
    "name": "ipython",
    "version": 3
   },
   "file_extension": ".py",
   "mimetype": "text/x-python",
   "name": "python",
   "nbconvert_exporter": "python",
   "pygments_lexer": "ipython3",
   "version": "3.7.5"
  }
 },
 "nbformat": 4,
 "nbformat_minor": 2
}
