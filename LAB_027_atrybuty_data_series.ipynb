{
 "cells": [
  {
   "cell_type": "markdown",
   "metadata": {},
   "source": [
    "# LAB 27"
   ]
  },
  {
   "cell_type": "markdown",
   "metadata": {},
   "source": [
    "1. Zaimportuj moduły: pandas, numpy, matplotlib (tylko pyplot), math i nadaj im standardowe aliasy\n",
    "2. Zaimportuj moduł random z aliasem rnd, a potem:\n",
    "    - Zadeklaruj zmieną dataAsFloatList jako listę.\n",
    "    - Napisz pętlę, która 100000 doda do listy element wyliczony wzorem i*rnd.random() gdzie i to kolejny numer pętli\n",
    "    - Następnie w oparciu o listę dataAsFloatList utwórz obiekt series i zapisz go w zmiennej dataAsFloatSeries.\n",
    "3. Wyświetl następujące atrybuty dataAsFloatSeries:\n",
    "    - size\n",
    "    - nbytes\n",
    "    - shape\n",
    "    - axes\n",
    "    - dtype\n",
    "    - index\n",
    "    - is_unique\n",
    "    - is_monotonic\n",
    "4. Powtórz kroki z punktu (2) z drobnymi zmianami:\n",
    "    - Zadeklaruj zmieną dataAsStringList jako listę.\n",
    "    - Napisz pętlę, która 100000 doda do listy element wyliczony wzorem str(i*rnd.random()) gdzie i to kolejny numer pętli\n",
    "    - Następnie w oparciu o listę dataAsStringList utwórz obiekt series i zapisz go w zmiennej dataAsStringSeries.\n",
    "5. Podobnie jak poprzednio wyświetl atrybuty dataAsStringSeries:\n",
    "    - size\n",
    "    - nbytes\n",
    "    - dtype\n",
    "6. Czy Twoim zdaniem nbytes dla obu obiektów Data Series powinny być takie same czy inne? A jakie są?\n",
    "7. Wyjaśnienie dla punktu (6). Atrybut nbytes \"szacuje zajętość pamięci bardzo z grubsza\". Ta metoda jest szybka ale niedokładna. Jeśli chcesz dokładnie policzyć ilość zajmowanej pamięci skorzystaj z metody (metody dokładnie omawiamy w kolejnej lekcji):\n",
    "     - dataAsFloatSeries.memory_usage(deep=True)\n",
    "     - dataAsStringSeries.memory_usage(deep=True)"
   ]
  },
  {
   "cell_type": "markdown",
   "metadata": {},
   "source": [
    "## Exercise 1"
   ]
  },
  {
   "cell_type": "code",
   "execution_count": 4,
   "metadata": {},
   "outputs": [],
   "source": [
    "import pandas as pd\n",
    "import numpy as np\n",
    "import matplotlib.pyplot as plt\n",
    "import math as math"
   ]
  },
  {
   "cell_type": "markdown",
   "metadata": {},
   "source": [
    "## Exercise 2"
   ]
  },
  {
   "cell_type": "code",
   "execution_count": 5,
   "metadata": {},
   "outputs": [],
   "source": [
    "import random as rnd"
   ]
  },
  {
   "cell_type": "code",
   "execution_count": 51,
   "metadata": {},
   "outputs": [
    {
     "name": "stdout",
     "output_type": "stream",
     "text": [
      "<class 'list'>\n",
      "0            0.000000\n",
      "1            0.444464\n",
      "2            1.406117\n",
      "3            0.505453\n",
      "4            1.401592\n",
      "             ...     \n",
      "99995    70601.184344\n",
      "99996    62259.596555\n",
      "99997    65904.568175\n",
      "99998    13891.926024\n",
      "99999     7706.499076\n",
      "Length: 100000, dtype: float64\n"
     ]
    }
   ],
   "source": [
    "dataAsFloatList = []\n",
    "print(type(dataAsFloatList))\n",
    "\n",
    "for i in range(100000):\n",
    "    dataAsFloatList.append(i * rnd.random())\n",
    "    \n",
    "dataAsFloatSeries = pd.Series(dataAsFloatList)\n",
    "\n",
    "print(dataAsFloatSeries)"
   ]
  },
  {
   "cell_type": "markdown",
   "metadata": {},
   "source": [
    "## Exercise 3"
   ]
  },
  {
   "cell_type": "code",
   "execution_count": 52,
   "metadata": {},
   "outputs": [
    {
     "name": "stdout",
     "output_type": "stream",
     "text": [
      "     size:\t 100000\n",
      "   nbytes:\t 800000\n",
      "    shape:\t (100000,)\n",
      "     axes:\t [RangeIndex(start=0, stop=100000, step=1)]\n",
      "    dtype:\t float64\n",
      "    index:\t RangeIndex(start=0, stop=100000, step=1)\n",
      "   unique:\t True\n",
      "monotonic:\t False\n"
     ]
    }
   ],
   "source": [
    "print('     size:\\t',dataAsFloatSeries.size)\n",
    "print('   nbytes:\\t',dataAsFloatSeries.nbytes)\n",
    "print('    shape:\\t',dataAsFloatSeries.shape)\n",
    "print('     axes:\\t',dataAsFloatSeries.axes)\n",
    "print('    dtype:\\t',dataAsFloatSeries.dtype)\n",
    "print('    index:\\t',dataAsFloatSeries.index)\n",
    "print('   unique:\\t',dataAsFloatSeries.is_unique)\n",
    "print('monotonic:\\t',dataAsFloatSeries.is_monotonic)"
   ]
  },
  {
   "cell_type": "markdown",
   "metadata": {},
   "source": [
    "## Exercise 4"
   ]
  },
  {
   "cell_type": "code",
   "execution_count": 26,
   "metadata": {},
   "outputs": [],
   "source": [
    "import random as rnd"
   ]
  },
  {
   "cell_type": "code",
   "execution_count": 53,
   "metadata": {},
   "outputs": [
    {
     "name": "stdout",
     "output_type": "stream",
     "text": [
      "0                       0.0\n",
      "1        0.8941547285415758\n",
      "2        0.6140992287581848\n",
      "3          2.31053387253392\n",
      "4         3.966708575087022\n",
      "                ...        \n",
      "99995     25636.74548410381\n",
      "99996     18696.68759811432\n",
      "99997     95436.96817297858\n",
      "99998     37862.17983535588\n",
      "99999     44996.24959015691\n",
      "Length: 100000, dtype: object\n"
     ]
    }
   ],
   "source": [
    "dataAsStringList = []\n",
    "for i in range(100000):\n",
    "    dataAsStringList.append(str(i * rnd.random()))\n",
    "    \n",
    "dataAsStringSerises = pd.Series(dataAsStringList)\n",
    "print(dataAsStringSerises)"
   ]
  },
  {
   "cell_type": "markdown",
   "metadata": {},
   "source": [
    "## Exercise 5"
   ]
  },
  {
   "cell_type": "code",
   "execution_count": 54,
   "metadata": {},
   "outputs": [
    {
     "name": "stdout",
     "output_type": "stream",
     "text": [
      "  size:\t 100000\n",
      "nbytes:\t 800000\n",
      " dtype:\t object\n"
     ]
    }
   ],
   "source": [
    "print('  size:\\t',dataAsStringSerises.size)\n",
    "print('nbytes:\\t',dataAsStringSerises.nbytes)\n",
    "print(' dtype:\\t',dataAsStringSerises.dtype)"
   ]
  },
  {
   "cell_type": "markdown",
   "metadata": {},
   "source": [
    "## Exercise 6"
   ]
  },
  {
   "cell_type": "code",
   "execution_count": 55,
   "metadata": {},
   "outputs": [
    {
     "name": "stdout",
     "output_type": "stream",
     "text": [
      "  dataAsFloatSeries nbytes:\t 800000\n",
      "dataAsStringSerises nbytes:\t 800000\n"
     ]
    }
   ],
   "source": [
    "print('  dataAsFloatSeries nbytes:\\t',dataAsFloatSeries.nbytes)\n",
    "print('dataAsStringSerises nbytes:\\t',dataAsStringSerises.nbytes)"
   ]
  },
  {
   "cell_type": "markdown",
   "metadata": {},
   "source": [
    "## Exercise 7"
   ]
  },
  {
   "cell_type": "code",
   "execution_count": 57,
   "metadata": {},
   "outputs": [
    {
     "name": "stdout",
     "output_type": "stream",
     "text": [
      "dataAsFloatSeries:\t 800128\n",
      "dataAsStringSerises:\t 7434545\n"
     ]
    }
   ],
   "source": [
    "print('dataAsFloatSeries:\\t', dataAsFloatSeries.memory_usage(deep=True))\n",
    "print('dataAsStringSerises:\\t', dataAsStringSerises.memory_usage(deep=True))"
   ]
  }
 ],
 "metadata": {
  "kernelspec": {
   "display_name": "Python 3",
   "language": "python",
   "name": "python3"
  },
  "language_info": {
   "codemirror_mode": {
    "name": "ipython",
    "version": 3
   },
   "file_extension": ".py",
   "mimetype": "text/x-python",
   "name": "python",
   "nbconvert_exporter": "python",
   "pygments_lexer": "ipython3",
   "version": "3.7.5"
  }
 },
 "nbformat": 4,
 "nbformat_minor": 2
}
