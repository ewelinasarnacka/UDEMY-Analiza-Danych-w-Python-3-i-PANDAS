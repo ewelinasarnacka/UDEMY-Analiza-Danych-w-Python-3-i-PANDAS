{
 "cells": [
  {
   "cell_type": "markdown",
   "metadata": {},
   "source": [
    "# LAB 25\n",
    "S02-L003 - LAB - Ręczne tworzenie Data Series\n",
    "1. Zaimportuj moduły: pandas, numpy, matplotlib (tylko pyplot), math i nadaj im standardowe aliasy\n",
    "2. Utwórz listę dni tygodnia i nazwij ją weekdays\n",
    "3. W oparciu o tą listę utwórz obiekt Data Series. Zapisz go w zmiennej weekdaysSeries i wyświetl tą zmienną. \n",
    "4. Utwórz listę freeDays, która bedzie zawierała tyle samo elementów co lista weekdays. W kolejnych pozycjach tej listy zapisuj informację True/False oznaczającą, czy dany dzień tygodnia jest wolny czy nie.\n",
    "5. W oparciu o listę freeDays utwórz obiekt Data Series. Zapisz go w zmiennej freeDaysSeries i wyświetl tą zmienną. Zwróć uwagę na typ listy\n",
    "6. Utwórz hash table (dictionary) o nazwie holidays, gdzie kluczem jest nazwa święta, a wartością data, (bez przesady - do ćwiczenia 3 święta wystarczą), np.\n",
    "    1. New Year - 2018-01-01\n",
    "    2. Epiphany - 2018-01-06\n",
    "    3. Easter - 2018-04-01\n",
    "7. W oparciu o hash table holidays utwórz Data Series i zapisz go w zmiennej holidaysSeries i wyświetl tą zmienną."
   ]
  },
  {
   "cell_type": "markdown",
   "metadata": {},
   "source": [
    "## Exercise 1"
   ]
  },
  {
   "cell_type": "code",
   "execution_count": 1,
   "metadata": {},
   "outputs": [],
   "source": [
    "import pandas as pd\n",
    "import numpy as np\n",
    "import matplotlib.pyplot as plt\n",
    "import math as math"
   ]
  },
  {
   "cell_type": "markdown",
   "metadata": {},
   "source": [
    "## Exercise 2"
   ]
  },
  {
   "cell_type": "code",
   "execution_count": 69,
   "metadata": {},
   "outputs": [],
   "source": [
    "from datetime import datetime"
   ]
  },
  {
   "cell_type": "code",
   "execution_count": 3,
   "metadata": {},
   "outputs": [],
   "source": [
    "# Rozwiązanie w zadaniu:\n",
    "week_days = [\"Monday\",'Tuesday','Wednesday','Thursday','Friday','Saturday','Sunday']"
   ]
  },
  {
   "cell_type": "code",
   "execution_count": 41,
   "metadata": {},
   "outputs": [
    {
     "name": "stdout",
     "output_type": "stream",
     "text": [
      "datelist: DatetimeIndex(['2019-12-18 22:57:49.327777', '2019-12-19 22:57:49.327777',\n",
      "               '2019-12-20 22:57:49.327777', '2019-12-21 22:57:49.327777',\n",
      "               '2019-12-22 22:57:49.327777', '2019-12-23 22:57:49.327777',\n",
      "               '2019-12-24 22:57:49.327777', '2019-12-25 22:57:49.327777',\n",
      "               '2019-12-26 22:57:49.327777', '2019-12-27 22:57:49.327777'],\n",
      "              dtype='datetime64[ns]', freq='D')\n",
      "\n",
      " ['Sunday', 'Monday', 'Tuesday', 'Saturday', 'Wednesday', 'Friday', 'Thursday'] \n",
      " ['Sunday', 'Monday', 'Tuesday', 'Wednesday', 'Thursday', 'Friday', 'Saturday']\n"
     ]
    }
   ],
   "source": [
    "# Rozwiązanie - dodatkowe kombinowanie:\n",
    "n=10\n",
    "datelist = pd.date_range(pd.datetime.today(), periods=n)\n",
    "print(\"datelist:\",datelist)\n",
    "\n",
    "weekdays_0 = []\n",
    "for i in range(1,n):\n",
    "    weekdays_0.append(week_days[datetime.weekday(datelist[i])-1])\n",
    "weekdays_0 = list(set(weekdays_0)) # zastosowanie SET oznacza utratę typu LISTA\n",
    "\n",
    "weekdays_1 = []\n",
    "for i in range(1,n):\n",
    "    weekdays_1.append(datetime.weekday(datelist[i]))\n",
    "    \n",
    "weekdays_1 = list(set(weekdays_1))\n",
    "weekdays_1 = [week_days[i-1] for i in weekdays_1]\n",
    "\n",
    "print(\"\\n\", weekdays_0, \"\\n\", weekdays_1)"
   ]
  },
  {
   "cell_type": "markdown",
   "metadata": {},
   "source": [
    "## Exercise 3"
   ]
  },
  {
   "cell_type": "code",
   "execution_count": 42,
   "metadata": {},
   "outputs": [
    {
     "name": "stdout",
     "output_type": "stream",
     "text": [
      "0       Sunday\n",
      "1       Monday\n",
      "2      Tuesday\n",
      "3    Wednesday\n",
      "4     Thursday\n",
      "5       Friday\n",
      "6     Saturday\n",
      "dtype: object\n"
     ]
    }
   ],
   "source": [
    "weekdaysSeries = pd.Series(weekdays_1)\n",
    "print(weekdaysSeries)"
   ]
  },
  {
   "cell_type": "markdown",
   "metadata": {},
   "source": [
    "## Exercise 4"
   ]
  },
  {
   "cell_type": "code",
   "execution_count": 27,
   "metadata": {},
   "outputs": [],
   "source": [
    "# Rozwiązanie w zadaniu:\n",
    "freeDays = [False, False, False, False, False, True, True]"
   ]
  },
  {
   "cell_type": "code",
   "execution_count": 44,
   "metadata": {},
   "outputs": [
    {
     "name": "stdout",
     "output_type": "stream",
     "text": [
      "['Sunday', 'Monday', 'Tuesday', 'Wednesday', 'Thursday', 'Friday', 'Saturday'] \n",
      " [False, True, True, True, True, True, False]\n"
     ]
    }
   ],
   "source": [
    "# Rozwiązanie - dodatkowe kombinowanie:\n",
    "freeDays = []\n",
    "for i in weekdays_1:\n",
    "    if i in [\"Sunday\", \"Saturday\"]:\n",
    "        freeDays.append(False)\n",
    "    else:\n",
    "        freeDays.append(True)\n",
    "        \n",
    "print(weekdays_1,\"\\n\",freeDays)"
   ]
  },
  {
   "cell_type": "markdown",
   "metadata": {},
   "source": [
    "## Exercise 5"
   ]
  },
  {
   "cell_type": "code",
   "execution_count": 45,
   "metadata": {},
   "outputs": [
    {
     "name": "stdout",
     "output_type": "stream",
     "text": [
      "0    False\n",
      "1     True\n",
      "2     True\n",
      "3     True\n",
      "4     True\n",
      "5     True\n",
      "6    False\n",
      "dtype: bool\n"
     ]
    }
   ],
   "source": [
    "freeDaysSeries = pd.Series(freeDays)\n",
    "print(freeDaysSeries)"
   ]
  },
  {
   "cell_type": "markdown",
   "metadata": {},
   "source": [
    "## Exercise 6"
   ]
  },
  {
   "cell_type": "code",
   "execution_count": 85,
   "metadata": {},
   "outputs": [
    {
     "name": "stdout",
     "output_type": "stream",
     "text": [
      "{'New Year': '2018-01-01', 'Epiphany': '2018-01-06', 'Easter': '2018-04-01'}\n"
     ]
    }
   ],
   "source": [
    "# Rozwiązanie w zadaniu:\n",
    "holidays = {\"New Year\": '2018-01-01',\n",
    "           \"Epiphany\": '2018-01-06',\n",
    "           \"Easter\": '2018-04-01'}\n",
    "print(holidays)"
   ]
  },
  {
   "cell_type": "code",
   "execution_count": 99,
   "metadata": {},
   "outputs": [
    {
     "name": "stdout",
     "output_type": "stream",
     "text": [
      "{'New Year': '2018-01-01', 'Epiphany': '2018-01-06', 'Easter': '2018-04-01'} \n",
      " {'New Year': datetime.date(2018, 1, 1), 'Epiphany': datetime.date(2018, 1, 6), 'Easter': datetime.date(2018, 4, 1)}\n",
      "<class 'str'>\n",
      "<class 'datetime.date'>\n"
     ]
    }
   ],
   "source": [
    "# Rozwiązanie - dodatkowe kombinowanie:\n",
    "holidays_dt = {}\n",
    "for kay, item in holidays.items():\n",
    "    holidays_dt[kay]=datetime.date(datetime.strptime(holidays[kay], '%Y-%m-%d')) \n",
    "                    # STRIPTIME - przejście od str do datetime; DATE - przejście do date\n",
    "    \n",
    "print(holidays, \"\\n\", holidays_dt)\n",
    "print(type(holidays[\"New Year\"]))\n",
    "print(type(holidays_dt[\"New Year\"]))"
   ]
  },
  {
   "cell_type": "markdown",
   "metadata": {},
   "source": [
    "## Exercise 7"
   ]
  },
  {
   "cell_type": "code",
   "execution_count": 53,
   "metadata": {},
   "outputs": [
    {
     "data": {
      "text/plain": [
       "New Year    2018-01-01\n",
       "Epiphany    2018-01-06\n",
       "Easter      2018-04-01\n",
       "dtype: object"
      ]
     },
     "execution_count": 53,
     "metadata": {},
     "output_type": "execute_result"
    }
   ],
   "source": [
    "holidaysSeries = pd.Series(holidays)\n",
    "holidaysSeries"
   ]
  }
 ],
 "metadata": {
  "kernelspec": {
   "display_name": "Python 3",
   "language": "python",
   "name": "python3"
  },
  "language_info": {
   "codemirror_mode": {
    "name": "ipython",
    "version": 3
   },
   "file_extension": ".py",
   "mimetype": "text/x-python",
   "name": "python",
   "nbconvert_exporter": "python",
   "pygments_lexer": "ipython3",
   "version": "3.7.5"
  }
 },
 "nbformat": 4,
 "nbformat_minor": 2
}
