{
 "cells": [
  {
   "cell_type": "markdown",
   "metadata": {},
   "source": [
    "# LAB 115\n",
    "\n",
    "1. Zaimportuj moduł pandas i numpy nadaj im standardowe aliasy. Zaimportuj też datetime, timedelta i time, możesz skorzystać z poniższych poleceń:\n",
    "     * from datetime import datetime\n",
    "     * from datetime import timedelta\n",
    "     * import time\n",
    "2. Do wykonania zadań będziemy korzystać z danych dotyczących maratonów. Uruchom poniższy kod, który przygotuje zmienną df o odpowiedniej strukturze:\n",
    "     * df = pd.read_csv('./marathon_results_2016.csv', index_col='Bib', usecols=['Bib','40K','Half','Pace','Age','M/F','Country','State','City'])\n",
    "     * df['40K'] = df['40K'].apply(pd.to_timedelta)\n",
    "     * df['Half'] = df['Half'].apply(pd.to_timedelta)\n",
    "     * df['TotalSeconds'] = df['40K'].apply(lambda x: timedelta.total_seconds(x))\n",
    "     * df['HalfSeconds'] = df['Half'].apply(lambda x: timedelta.total_seconds(x))\n",
    "     * df.head()\n",
    "3. W zmiennej group_city zapisz wynik grupowania data frame df ze względu na kolumnę City\n",
    "4. Korzystając z odpowiedniej funkcji agregującej wyznacz wartość średnią dla każdej grupy\n",
    "5. Ponownie wyznacz wartość średnią, ale tym razem jawnie wskaż, że średnia ma być wyliczana tylko dla kolumn \"TotalSeconds\",\"HalfSeconds\"\n",
    "6. Ile czasu w sumie biegali uczestnicy maratonów w poszczególnych miastach? Korzystając z funkcji sum wyznacz sumę czasu TotalSeconds dla każdego miasta oddzielnie\n",
    "7. W zmiennej group_age zapisz wynik grupowania data frame df ze względu na kolumnę Age\n",
    "8. Zastosuj agregację count() dla każdej grupy w group_age\n",
    "9. A ilu uczestników w różnym wieku zakończyło bieg? W tym celu policz ile osób w każdym wieku ma podaną wartość w kolumnie TotalSeconds"
   ]
  },
  {
   "cell_type": "markdown",
   "metadata": {},
   "source": [
    "## Exercise 1"
   ]
  },
  {
   "cell_type": "code",
   "execution_count": 4,
   "metadata": {},
   "outputs": [],
   "source": [
    "import pandas as pd\n",
    "import numpy as np\n",
    "import matplotlib.pyplot as plt\n",
    "import math as math\n",
    "from datetime import datetime\n",
    "from datetime import timedelta\n",
    "import time"
   ]
  },
  {
   "cell_type": "markdown",
   "metadata": {},
   "source": [
    "## Exercise 2"
   ]
  },
  {
   "cell_type": "code",
   "execution_count": 5,
   "metadata": {},
   "outputs": [
    {
     "data": {
      "text/html": [
       "<div>\n",
       "<style scoped>\n",
       "    .dataframe tbody tr th:only-of-type {\n",
       "        vertical-align: middle;\n",
       "    }\n",
       "\n",
       "    .dataframe tbody tr th {\n",
       "        vertical-align: top;\n",
       "    }\n",
       "\n",
       "    .dataframe thead th {\n",
       "        text-align: right;\n",
       "    }\n",
       "</style>\n",
       "<table border=\"1\" class=\"dataframe\">\n",
       "  <thead>\n",
       "    <tr style=\"text-align: right;\">\n",
       "      <th></th>\n",
       "      <th>Age</th>\n",
       "      <th>M/F</th>\n",
       "      <th>City</th>\n",
       "      <th>State</th>\n",
       "      <th>Country</th>\n",
       "      <th>Half</th>\n",
       "      <th>40K</th>\n",
       "      <th>Pace</th>\n",
       "      <th>TotalSeconds</th>\n",
       "      <th>HalfSeconds</th>\n",
       "    </tr>\n",
       "    <tr>\n",
       "      <th>Bib</th>\n",
       "      <th></th>\n",
       "      <th></th>\n",
       "      <th></th>\n",
       "      <th></th>\n",
       "      <th></th>\n",
       "      <th></th>\n",
       "      <th></th>\n",
       "      <th></th>\n",
       "      <th></th>\n",
       "      <th></th>\n",
       "    </tr>\n",
       "  </thead>\n",
       "  <tbody>\n",
       "    <tr>\n",
       "      <th>5</th>\n",
       "      <td>21</td>\n",
       "      <td>M</td>\n",
       "      <td>Addis Ababa</td>\n",
       "      <td>NaN</td>\n",
       "      <td>ETH</td>\n",
       "      <td>01:06:45</td>\n",
       "      <td>02:05:59</td>\n",
       "      <td>0:05:04</td>\n",
       "      <td>7559.0</td>\n",
       "      <td>4005.0</td>\n",
       "    </tr>\n",
       "    <tr>\n",
       "      <th>1</th>\n",
       "      <td>26</td>\n",
       "      <td>M</td>\n",
       "      <td>Ambo</td>\n",
       "      <td>NaN</td>\n",
       "      <td>ETH</td>\n",
       "      <td>01:06:46</td>\n",
       "      <td>02:05:59</td>\n",
       "      <td>0:05:06</td>\n",
       "      <td>7559.0</td>\n",
       "      <td>4006.0</td>\n",
       "    </tr>\n",
       "    <tr>\n",
       "      <th>6</th>\n",
       "      <td>31</td>\n",
       "      <td>M</td>\n",
       "      <td>Addis Ababa</td>\n",
       "      <td>NaN</td>\n",
       "      <td>ETH</td>\n",
       "      <td>01:06:44</td>\n",
       "      <td>02:06:47</td>\n",
       "      <td>0:05:07</td>\n",
       "      <td>7607.0</td>\n",
       "      <td>4004.0</td>\n",
       "    </tr>\n",
       "    <tr>\n",
       "      <th>11</th>\n",
       "      <td>33</td>\n",
       "      <td>M</td>\n",
       "      <td>Kitale</td>\n",
       "      <td>NaN</td>\n",
       "      <td>KEN</td>\n",
       "      <td>01:06:46</td>\n",
       "      <td>02:06:47</td>\n",
       "      <td>0:05:07</td>\n",
       "      <td>7607.0</td>\n",
       "      <td>4006.0</td>\n",
       "    </tr>\n",
       "    <tr>\n",
       "      <th>14</th>\n",
       "      <td>23</td>\n",
       "      <td>M</td>\n",
       "      <td>Eldoret</td>\n",
       "      <td>NaN</td>\n",
       "      <td>KEN</td>\n",
       "      <td>01:06:46</td>\n",
       "      <td>02:08:11</td>\n",
       "      <td>0:05:11</td>\n",
       "      <td>7691.0</td>\n",
       "      <td>4006.0</td>\n",
       "    </tr>\n",
       "  </tbody>\n",
       "</table>\n",
       "</div>"
      ],
      "text/plain": [
       "     Age M/F         City State Country     Half      40K     Pace  \\\n",
       "Bib                                                                  \n",
       "5     21   M  Addis Ababa   NaN     ETH 01:06:45 02:05:59  0:05:04   \n",
       "1     26   M         Ambo   NaN     ETH 01:06:46 02:05:59  0:05:06   \n",
       "6     31   M  Addis Ababa   NaN     ETH 01:06:44 02:06:47  0:05:07   \n",
       "11    33   M       Kitale   NaN     KEN 01:06:46 02:06:47  0:05:07   \n",
       "14    23   M      Eldoret   NaN     KEN 01:06:46 02:08:11  0:05:11   \n",
       "\n",
       "     TotalSeconds  HalfSeconds  \n",
       "Bib                             \n",
       "5          7559.0       4005.0  \n",
       "1          7559.0       4006.0  \n",
       "6          7607.0       4004.0  \n",
       "11         7607.0       4006.0  \n",
       "14         7691.0       4006.0  "
      ]
     },
     "execution_count": 5,
     "metadata": {},
     "output_type": "execute_result"
    }
   ],
   "source": [
    "df = pd.read_csv('./marathon_results_2016.csv', index_col='Bib',\n",
    "                 usecols=['Bib','40K','Half','Pace','Age','M/F','Country','State','City'])\n",
    "df['40K'] = df['40K'].apply(pd.to_timedelta)\n",
    "df['Half'] = df['Half'].apply(pd.to_timedelta)\n",
    "df['TotalSeconds'] = df['40K'].apply(lambda x: timedelta.total_seconds(x))\n",
    "df['HalfSeconds'] = df['Half'].apply(lambda x: timedelta.total_seconds(x))\n",
    "df.head()"
   ]
  },
  {
   "cell_type": "markdown",
   "metadata": {},
   "source": [
    "## Exercise 3"
   ]
  },
  {
   "cell_type": "code",
   "execution_count": 6,
   "metadata": {},
   "outputs": [],
   "source": [
    "group_city = df.groupby(by=\"City\")"
   ]
  },
  {
   "cell_type": "markdown",
   "metadata": {},
   "source": [
    "## Exercise 4"
   ]
  },
  {
   "cell_type": "code",
   "execution_count": 7,
   "metadata": {},
   "outputs": [
    {
     "data": {
      "text/html": [
       "<div>\n",
       "<style scoped>\n",
       "    .dataframe tbody tr th:only-of-type {\n",
       "        vertical-align: middle;\n",
       "    }\n",
       "\n",
       "    .dataframe tbody tr th {\n",
       "        vertical-align: top;\n",
       "    }\n",
       "\n",
       "    .dataframe thead th {\n",
       "        text-align: right;\n",
       "    }\n",
       "</style>\n",
       "<table border=\"1\" class=\"dataframe\">\n",
       "  <thead>\n",
       "    <tr style=\"text-align: right;\">\n",
       "      <th></th>\n",
       "      <th>Age</th>\n",
       "      <th>TotalSeconds</th>\n",
       "      <th>HalfSeconds</th>\n",
       "    </tr>\n",
       "    <tr>\n",
       "      <th>City</th>\n",
       "      <th></th>\n",
       "      <th></th>\n",
       "      <th></th>\n",
       "    </tr>\n",
       "  </thead>\n",
       "  <tbody>\n",
       "    <tr>\n",
       "      <th>0851 Oslo</th>\n",
       "      <td>39.0</td>\n",
       "      <td>11724.0</td>\n",
       "      <td>5731.0</td>\n",
       "    </tr>\n",
       "    <tr>\n",
       "      <th>20832</th>\n",
       "      <td>35.0</td>\n",
       "      <td>11640.0</td>\n",
       "      <td>5757.0</td>\n",
       "    </tr>\n",
       "    <tr>\n",
       "      <th>34-120 Andrychow</th>\n",
       "      <td>43.5</td>\n",
       "      <td>14111.0</td>\n",
       "      <td>6699.5</td>\n",
       "    </tr>\n",
       "    <tr>\n",
       "      <th>5700 Svendborg</th>\n",
       "      <td>58.0</td>\n",
       "      <td>13498.0</td>\n",
       "      <td>6552.0</td>\n",
       "    </tr>\n",
       "    <tr>\n",
       "      <th>95630</th>\n",
       "      <td>46.0</td>\n",
       "      <td>13043.0</td>\n",
       "      <td>6625.0</td>\n",
       "    </tr>\n",
       "  </tbody>\n",
       "</table>\n",
       "</div>"
      ],
      "text/plain": [
       "                   Age  TotalSeconds  HalfSeconds\n",
       "City                                             \n",
       "0851 Oslo         39.0       11724.0       5731.0\n",
       "20832             35.0       11640.0       5757.0\n",
       "34-120 Andrychow  43.5       14111.0       6699.5\n",
       "5700 Svendborg    58.0       13498.0       6552.0\n",
       "95630             46.0       13043.0       6625.0"
      ]
     },
     "execution_count": 7,
     "metadata": {},
     "output_type": "execute_result"
    }
   ],
   "source": [
    "group_city.mean().head()"
   ]
  },
  {
   "cell_type": "markdown",
   "metadata": {},
   "source": [
    "## Exercise 5"
   ]
  },
  {
   "cell_type": "code",
   "execution_count": 8,
   "metadata": {},
   "outputs": [
    {
     "data": {
      "text/html": [
       "<div>\n",
       "<style scoped>\n",
       "    .dataframe tbody tr th:only-of-type {\n",
       "        vertical-align: middle;\n",
       "    }\n",
       "\n",
       "    .dataframe tbody tr th {\n",
       "        vertical-align: top;\n",
       "    }\n",
       "\n",
       "    .dataframe thead th {\n",
       "        text-align: right;\n",
       "    }\n",
       "</style>\n",
       "<table border=\"1\" class=\"dataframe\">\n",
       "  <thead>\n",
       "    <tr style=\"text-align: right;\">\n",
       "      <th></th>\n",
       "      <th>TotalSeconds</th>\n",
       "      <th>HalfSeconds</th>\n",
       "    </tr>\n",
       "    <tr>\n",
       "      <th>City</th>\n",
       "      <th></th>\n",
       "      <th></th>\n",
       "    </tr>\n",
       "  </thead>\n",
       "  <tbody>\n",
       "    <tr>\n",
       "      <th>0851 Oslo</th>\n",
       "      <td>11724.0</td>\n",
       "      <td>5731.0</td>\n",
       "    </tr>\n",
       "    <tr>\n",
       "      <th>20832</th>\n",
       "      <td>11640.0</td>\n",
       "      <td>5757.0</td>\n",
       "    </tr>\n",
       "    <tr>\n",
       "      <th>34-120 Andrychow</th>\n",
       "      <td>14111.0</td>\n",
       "      <td>6699.5</td>\n",
       "    </tr>\n",
       "    <tr>\n",
       "      <th>5700 Svendborg</th>\n",
       "      <td>13498.0</td>\n",
       "      <td>6552.0</td>\n",
       "    </tr>\n",
       "    <tr>\n",
       "      <th>95630</th>\n",
       "      <td>13043.0</td>\n",
       "      <td>6625.0</td>\n",
       "    </tr>\n",
       "  </tbody>\n",
       "</table>\n",
       "</div>"
      ],
      "text/plain": [
       "                  TotalSeconds  HalfSeconds\n",
       "City                                       \n",
       "0851 Oslo              11724.0       5731.0\n",
       "20832                  11640.0       5757.0\n",
       "34-120 Andrychow       14111.0       6699.5\n",
       "5700 Svendborg         13498.0       6552.0\n",
       "95630                  13043.0       6625.0"
      ]
     },
     "execution_count": 8,
     "metadata": {},
     "output_type": "execute_result"
    }
   ],
   "source": [
    "group_city[[\"TotalSeconds\",\"HalfSeconds\"]].mean().head()"
   ]
  },
  {
   "cell_type": "markdown",
   "metadata": {},
   "source": [
    "## Exercise 6"
   ]
  },
  {
   "cell_type": "code",
   "execution_count": 9,
   "metadata": {},
   "outputs": [
    {
     "data": {
      "text/html": [
       "<div>\n",
       "<style scoped>\n",
       "    .dataframe tbody tr th:only-of-type {\n",
       "        vertical-align: middle;\n",
       "    }\n",
       "\n",
       "    .dataframe tbody tr th {\n",
       "        vertical-align: top;\n",
       "    }\n",
       "\n",
       "    .dataframe thead th {\n",
       "        text-align: right;\n",
       "    }\n",
       "</style>\n",
       "<table border=\"1\" class=\"dataframe\">\n",
       "  <thead>\n",
       "    <tr style=\"text-align: right;\">\n",
       "      <th></th>\n",
       "      <th>TotalSeconds</th>\n",
       "    </tr>\n",
       "    <tr>\n",
       "      <th>City</th>\n",
       "      <th></th>\n",
       "    </tr>\n",
       "  </thead>\n",
       "  <tbody>\n",
       "    <tr>\n",
       "      <th>0851 Oslo</th>\n",
       "      <td>11724.0</td>\n",
       "    </tr>\n",
       "    <tr>\n",
       "      <th>20832</th>\n",
       "      <td>11640.0</td>\n",
       "    </tr>\n",
       "    <tr>\n",
       "      <th>34-120 Andrychow</th>\n",
       "      <td>28222.0</td>\n",
       "    </tr>\n",
       "    <tr>\n",
       "      <th>5700 Svendborg</th>\n",
       "      <td>13498.0</td>\n",
       "    </tr>\n",
       "    <tr>\n",
       "      <th>95630</th>\n",
       "      <td>13043.0</td>\n",
       "    </tr>\n",
       "  </tbody>\n",
       "</table>\n",
       "</div>"
      ],
      "text/plain": [
       "                  TotalSeconds\n",
       "City                          \n",
       "0851 Oslo              11724.0\n",
       "20832                  11640.0\n",
       "34-120 Andrychow       28222.0\n",
       "5700 Svendborg         13498.0\n",
       "95630                  13043.0"
      ]
     },
     "execution_count": 9,
     "metadata": {},
     "output_type": "execute_result"
    }
   ],
   "source": [
    "group_city[[\"TotalSeconds\"]].sum().head()"
   ]
  },
  {
   "cell_type": "markdown",
   "metadata": {},
   "source": [
    "## Exercise 7"
   ]
  },
  {
   "cell_type": "code",
   "execution_count": 10,
   "metadata": {},
   "outputs": [],
   "source": [
    "group_age = df.groupby('Age')"
   ]
  },
  {
   "cell_type": "markdown",
   "metadata": {},
   "source": [
    "## Exercise 8"
   ]
  },
  {
   "cell_type": "code",
   "execution_count": 11,
   "metadata": {},
   "outputs": [
    {
     "data": {
      "text/html": [
       "<div>\n",
       "<style scoped>\n",
       "    .dataframe tbody tr th:only-of-type {\n",
       "        vertical-align: middle;\n",
       "    }\n",
       "\n",
       "    .dataframe tbody tr th {\n",
       "        vertical-align: top;\n",
       "    }\n",
       "\n",
       "    .dataframe thead th {\n",
       "        text-align: right;\n",
       "    }\n",
       "</style>\n",
       "<table border=\"1\" class=\"dataframe\">\n",
       "  <thead>\n",
       "    <tr style=\"text-align: right;\">\n",
       "      <th></th>\n",
       "      <th>M/F</th>\n",
       "      <th>City</th>\n",
       "      <th>State</th>\n",
       "      <th>Country</th>\n",
       "      <th>Half</th>\n",
       "      <th>40K</th>\n",
       "      <th>Pace</th>\n",
       "      <th>TotalSeconds</th>\n",
       "      <th>HalfSeconds</th>\n",
       "    </tr>\n",
       "    <tr>\n",
       "      <th>Age</th>\n",
       "      <th></th>\n",
       "      <th></th>\n",
       "      <th></th>\n",
       "      <th></th>\n",
       "      <th></th>\n",
       "      <th></th>\n",
       "      <th></th>\n",
       "      <th></th>\n",
       "      <th></th>\n",
       "    </tr>\n",
       "  </thead>\n",
       "  <tbody>\n",
       "    <tr>\n",
       "      <th>18</th>\n",
       "      <td>22</td>\n",
       "      <td>22</td>\n",
       "      <td>22</td>\n",
       "      <td>22</td>\n",
       "      <td>22</td>\n",
       "      <td>22</td>\n",
       "      <td>22</td>\n",
       "      <td>22</td>\n",
       "      <td>22</td>\n",
       "    </tr>\n",
       "    <tr>\n",
       "      <th>19</th>\n",
       "      <td>41</td>\n",
       "      <td>41</td>\n",
       "      <td>41</td>\n",
       "      <td>41</td>\n",
       "      <td>41</td>\n",
       "      <td>41</td>\n",
       "      <td>41</td>\n",
       "      <td>41</td>\n",
       "      <td>41</td>\n",
       "    </tr>\n",
       "    <tr>\n",
       "      <th>20</th>\n",
       "      <td>84</td>\n",
       "      <td>84</td>\n",
       "      <td>82</td>\n",
       "      <td>84</td>\n",
       "      <td>84</td>\n",
       "      <td>84</td>\n",
       "      <td>84</td>\n",
       "      <td>84</td>\n",
       "      <td>84</td>\n",
       "    </tr>\n",
       "    <tr>\n",
       "      <th>21</th>\n",
       "      <td>160</td>\n",
       "      <td>160</td>\n",
       "      <td>156</td>\n",
       "      <td>160</td>\n",
       "      <td>160</td>\n",
       "      <td>160</td>\n",
       "      <td>160</td>\n",
       "      <td>160</td>\n",
       "      <td>160</td>\n",
       "    </tr>\n",
       "    <tr>\n",
       "      <th>22</th>\n",
       "      <td>226</td>\n",
       "      <td>226</td>\n",
       "      <td>222</td>\n",
       "      <td>226</td>\n",
       "      <td>226</td>\n",
       "      <td>226</td>\n",
       "      <td>226</td>\n",
       "      <td>226</td>\n",
       "      <td>226</td>\n",
       "    </tr>\n",
       "  </tbody>\n",
       "</table>\n",
       "</div>"
      ],
      "text/plain": [
       "     M/F  City  State  Country  Half  40K  Pace  TotalSeconds  HalfSeconds\n",
       "Age                                                                       \n",
       "18    22    22     22       22    22   22    22            22           22\n",
       "19    41    41     41       41    41   41    41            41           41\n",
       "20    84    84     82       84    84   84    84            84           84\n",
       "21   160   160    156      160   160  160   160           160          160\n",
       "22   226   226    222      226   226  226   226           226          226"
      ]
     },
     "execution_count": 11,
     "metadata": {},
     "output_type": "execute_result"
    }
   ],
   "source": [
    "group_age.count().head()"
   ]
  },
  {
   "cell_type": "markdown",
   "metadata": {},
   "source": [
    "## Exercise 9"
   ]
  },
  {
   "cell_type": "code",
   "execution_count": 12,
   "metadata": {},
   "outputs": [
    {
     "data": {
      "text/plain": [
       "Age\n",
       "18     22\n",
       "19     41\n",
       "20     84\n",
       "21    160\n",
       "22    226\n",
       "Name: TotalSeconds, dtype: int64"
      ]
     },
     "execution_count": 12,
     "metadata": {},
     "output_type": "execute_result"
    }
   ],
   "source": [
    "group_age[\"TotalSeconds\"].count().head()"
   ]
  }
 ],
 "metadata": {
  "kernelspec": {
   "display_name": "Python 3",
   "language": "python",
   "name": "python3"
  },
  "language_info": {
   "codemirror_mode": {
    "name": "ipython",
    "version": 3
   },
   "file_extension": ".py",
   "mimetype": "text/x-python",
   "name": "python",
   "nbconvert_exporter": "python",
   "pygments_lexer": "ipython3",
   "version": "3.7.5"
  }
 },
 "nbformat": 4,
 "nbformat_minor": 2
}
