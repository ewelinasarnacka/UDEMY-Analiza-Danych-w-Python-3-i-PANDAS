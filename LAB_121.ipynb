{
 "cells": [
  {
   "cell_type": "markdown",
   "metadata": {},
   "source": [
    "# LAB 121\n",
    "\n",
    "1. Zaimportuj moduł pandas i numpy nadaj im standardowe aliasy. Zaimportuj też datetime, timedelta i time, możesz skorzystać z poniższych poleceń:\n",
    "     * from datetime import datetime\n",
    "     * from datetime import timedelta\n",
    "     * import time\n",
    "2. Do wykonania zadań będziemy korzystać z danych dotyczących maratonów. Uruchom poniższy kod, który przygotuje zmienną df o odpowiedniej strukturze:\n",
    "     * df = pd.read_csv('./marathon_results_2016.csv', index_col='Bib', usecols ['Bib','40K','Half','Pace','Age','M/F','Country','State','City'])\n",
    "     * df['40K'] = df['40K'].apply(pd.to_timedelta)\n",
    "     * df['Half'] = df['Half'].apply(pd.to_timedelta)\n",
    "     * df['TotalSeconds'] = df['40K'].apply(lambda x: timedelta.total_seconds(x))\n",
    "     * df['HalfSeconds'] = df['Half'].apply(lambda x: timedelta.total_seconds(x))\n",
    "     * df.head()\n",
    "3. W zmiennej group_city zapisz wynik grupowania data frame df ze względu na kolumnę City Uwaga! W rozwiązaniu poniżej ograniczam ilość pobranych wierszy do 10. Wszystko po to, aby wyniki zajmowały rozsądną ilość stron w tym PDF;)\n",
    "4. Napisz pętlę, która wyświetli nazwę miasta z każdego wiersza grupy group_city\n",
    "5. Napisz pętlę, która wyświetli nazwę miasta z każdego wiersza grupy group_city i obok ilość uczestników maratonu pochodzących z tego miasta\n",
    "6. Jeśli jeszcze tego nie zrobiłeś wykonaj poprzednie polecenie korzystając z dwóch zmiennych iterujących po obiekcie group_city\n",
    "7. Nadal korzystając z pętli wyświetl z obiektu grupy group_city nazwę miasta i dane pochodzące z tego wiersza należącego do grupy, w którym czas TotalSeconds był najkrótszy.\n",
    "8. Zadeklaruj zmienną the_best_per_city jako pusty obiekt DataFrame. Korzystając z pętli for iterujacej po obiekcie grupy group_city skopiuj do the_best_per_city wiersze maratończyków, którzy osiagnęli najkrótszy czas biegu (kolumna TotalSeconds). Następnie wyświetl the_best_per_city"
   ]
  },
  {
   "cell_type": "markdown",
   "metadata": {},
   "source": [
    "## Exercsie 1"
   ]
  },
  {
   "cell_type": "code",
   "execution_count": 1,
   "metadata": {},
   "outputs": [],
   "source": [
    "import pandas as pd\n",
    "import numpy as np\n",
    "import matplotlib.pyplot as plt\n",
    "import math as math\n",
    "from datetime import datetime\n",
    "from datetime import timedelta\n",
    "import time"
   ]
  },
  {
   "cell_type": "markdown",
   "metadata": {},
   "source": [
    "## Exercise 2"
   ]
  },
  {
   "cell_type": "code",
   "execution_count": 3,
   "metadata": {},
   "outputs": [
    {
     "data": {
      "text/html": [
       "<div>\n",
       "<style scoped>\n",
       "    .dataframe tbody tr th:only-of-type {\n",
       "        vertical-align: middle;\n",
       "    }\n",
       "\n",
       "    .dataframe tbody tr th {\n",
       "        vertical-align: top;\n",
       "    }\n",
       "\n",
       "    .dataframe thead th {\n",
       "        text-align: right;\n",
       "    }\n",
       "</style>\n",
       "<table border=\"1\" class=\"dataframe\">\n",
       "  <thead>\n",
       "    <tr style=\"text-align: right;\">\n",
       "      <th></th>\n",
       "      <th>Age</th>\n",
       "      <th>M/F</th>\n",
       "      <th>City</th>\n",
       "      <th>State</th>\n",
       "      <th>Country</th>\n",
       "      <th>Half</th>\n",
       "      <th>40K</th>\n",
       "      <th>Pace</th>\n",
       "      <th>TotalSeconds</th>\n",
       "      <th>HalfSeconds</th>\n",
       "    </tr>\n",
       "    <tr>\n",
       "      <th>Bib</th>\n",
       "      <th></th>\n",
       "      <th></th>\n",
       "      <th></th>\n",
       "      <th></th>\n",
       "      <th></th>\n",
       "      <th></th>\n",
       "      <th></th>\n",
       "      <th></th>\n",
       "      <th></th>\n",
       "      <th></th>\n",
       "    </tr>\n",
       "  </thead>\n",
       "  <tbody>\n",
       "    <tr>\n",
       "      <th>5</th>\n",
       "      <td>21</td>\n",
       "      <td>M</td>\n",
       "      <td>Addis Ababa</td>\n",
       "      <td>NaN</td>\n",
       "      <td>ETH</td>\n",
       "      <td>01:06:45</td>\n",
       "      <td>02:05:59</td>\n",
       "      <td>0:05:04</td>\n",
       "      <td>7559.0</td>\n",
       "      <td>4005.0</td>\n",
       "    </tr>\n",
       "    <tr>\n",
       "      <th>1</th>\n",
       "      <td>26</td>\n",
       "      <td>M</td>\n",
       "      <td>Ambo</td>\n",
       "      <td>NaN</td>\n",
       "      <td>ETH</td>\n",
       "      <td>01:06:46</td>\n",
       "      <td>02:05:59</td>\n",
       "      <td>0:05:06</td>\n",
       "      <td>7559.0</td>\n",
       "      <td>4006.0</td>\n",
       "    </tr>\n",
       "    <tr>\n",
       "      <th>6</th>\n",
       "      <td>31</td>\n",
       "      <td>M</td>\n",
       "      <td>Addis Ababa</td>\n",
       "      <td>NaN</td>\n",
       "      <td>ETH</td>\n",
       "      <td>01:06:44</td>\n",
       "      <td>02:06:47</td>\n",
       "      <td>0:05:07</td>\n",
       "      <td>7607.0</td>\n",
       "      <td>4004.0</td>\n",
       "    </tr>\n",
       "    <tr>\n",
       "      <th>11</th>\n",
       "      <td>33</td>\n",
       "      <td>M</td>\n",
       "      <td>Kitale</td>\n",
       "      <td>NaN</td>\n",
       "      <td>KEN</td>\n",
       "      <td>01:06:46</td>\n",
       "      <td>02:06:47</td>\n",
       "      <td>0:05:07</td>\n",
       "      <td>7607.0</td>\n",
       "      <td>4006.0</td>\n",
       "    </tr>\n",
       "    <tr>\n",
       "      <th>14</th>\n",
       "      <td>23</td>\n",
       "      <td>M</td>\n",
       "      <td>Eldoret</td>\n",
       "      <td>NaN</td>\n",
       "      <td>KEN</td>\n",
       "      <td>01:06:46</td>\n",
       "      <td>02:08:11</td>\n",
       "      <td>0:05:11</td>\n",
       "      <td>7691.0</td>\n",
       "      <td>4006.0</td>\n",
       "    </tr>\n",
       "  </tbody>\n",
       "</table>\n",
       "</div>"
      ],
      "text/plain": [
       "     Age M/F         City State Country     Half      40K     Pace  \\\n",
       "Bib                                                                  \n",
       "5     21   M  Addis Ababa   NaN     ETH 01:06:45 02:05:59  0:05:04   \n",
       "1     26   M         Ambo   NaN     ETH 01:06:46 02:05:59  0:05:06   \n",
       "6     31   M  Addis Ababa   NaN     ETH 01:06:44 02:06:47  0:05:07   \n",
       "11    33   M       Kitale   NaN     KEN 01:06:46 02:06:47  0:05:07   \n",
       "14    23   M      Eldoret   NaN     KEN 01:06:46 02:08:11  0:05:11   \n",
       "\n",
       "     TotalSeconds  HalfSeconds  \n",
       "Bib                             \n",
       "5          7559.0       4005.0  \n",
       "1          7559.0       4006.0  \n",
       "6          7607.0       4004.0  \n",
       "11         7607.0       4006.0  \n",
       "14         7691.0       4006.0  "
      ]
     },
     "execution_count": 3,
     "metadata": {},
     "output_type": "execute_result"
    }
   ],
   "source": [
    "df = pd.read_csv('./marathon_results_2016.csv', index_col='Bib', \n",
    "                 usecols=['Bib','40K','Half','Pace','Age','M/F','Country','State','City'])\n",
    "df['40K'] = df['40K'].apply(pd.to_timedelta)\n",
    "df['Half'] = df['Half'].apply(pd.to_timedelta)\n",
    "df['TotalSeconds'] = df['40K'].apply(lambda x: timedelta.total_seconds(x))\n",
    "df['HalfSeconds'] = df['Half'].apply(lambda x: timedelta.total_seconds(x))\n",
    "df.head()"
   ]
  },
  {
   "cell_type": "markdown",
   "metadata": {},
   "source": [
    "## Exercsie 3"
   ]
  },
  {
   "cell_type": "code",
   "execution_count": 4,
   "metadata": {},
   "outputs": [],
   "source": [
    "df = df.head(10)\n",
    "group_city = df.groupby(by=\"City\")"
   ]
  },
  {
   "cell_type": "markdown",
   "metadata": {},
   "source": [
    "## Exercise 4"
   ]
  },
  {
   "cell_type": "code",
   "execution_count": 6,
   "metadata": {},
   "outputs": [
    {
     "name": "stdout",
     "output_type": "stream",
     "text": [
      "Addis Ababa\n",
      "Ambo\n",
      "Dallas\n",
      "Eldoret\n",
      "Kitale\n",
      "Nijmegen\n"
     ]
    }
   ],
   "source": [
    "for city in group_city:\n",
    "    print(city[0])"
   ]
  },
  {
   "cell_type": "markdown",
   "metadata": {},
   "source": [
    "## Exercise 5"
   ]
  },
  {
   "cell_type": "code",
   "execution_count": 17,
   "metadata": {},
   "outputs": [
    {
     "name": "stdout",
     "output_type": "stream",
     "text": [
      "Addis Ababa 3\n",
      "Ambo 1\n",
      "Dallas 1\n",
      "Eldoret 3\n",
      "Kitale 1\n",
      "Nijmegen 1\n"
     ]
    }
   ],
   "source": [
    "for city in group_city:\n",
    "    print(city[0], len(city[1]))"
   ]
  },
  {
   "cell_type": "markdown",
   "metadata": {},
   "source": [
    "# Exercise 6"
   ]
  },
  {
   "cell_type": "code",
   "execution_count": 22,
   "metadata": {},
   "outputs": [
    {
     "name": "stdout",
     "output_type": "stream",
     "text": [
      "Addis Ababa 3\n",
      "Ambo 1\n",
      "Dallas 1\n",
      "Eldoret 3\n",
      "Kitale 1\n",
      "Nijmegen 1\n"
     ]
    }
   ],
   "source": [
    "for city, city_data in group_city:\n",
    "    print(city, len(city_data))"
   ]
  },
  {
   "cell_type": "markdown",
   "metadata": {},
   "source": [
    "## Exercise 7"
   ]
  },
  {
   "cell_type": "code",
   "execution_count": 24,
   "metadata": {},
   "outputs": [
    {
     "name": "stdout",
     "output_type": "stream",
     "text": [
      "Addis Ababa      Age M/F         City State Country     Half      40K     Pace  \\\n",
      "Bib                                                                  \n",
      "5     21   M  Addis Ababa   NaN     ETH 01:06:45 02:05:59  0:05:04   \n",
      "\n",
      "     TotalSeconds  HalfSeconds  \n",
      "Bib                             \n",
      "5          7559.0       4005.0  \n",
      "Ambo      Age M/F  City State Country     Half      40K     Pace  TotalSeconds  \\\n",
      "Bib                                                                         \n",
      "1     26   M  Ambo   NaN     ETH 01:06:46 02:05:59  0:05:06        7559.0   \n",
      "\n",
      "     HalfSeconds  \n",
      "Bib               \n",
      "1         4006.0  \n",
      "Dallas      Age M/F    City State Country     Half      40K     Pace  TotalSeconds  \\\n",
      "Bib                                                                           \n",
      "43    28   M  Dallas    TX     USA 01:07:57 02:12:47  0:05:25        7967.0   \n",
      "\n",
      "     HalfSeconds  \n",
      "Bib               \n",
      "43        4077.0  \n",
      "Eldoret      Age M/F     City State Country     Half      40K     Pace  TotalSeconds  \\\n",
      "Bib                                                                            \n",
      "14    23   M  Eldoret   NaN     KEN 01:06:46 02:08:11  0:05:11        7691.0   \n",
      "\n",
      "     HalfSeconds  \n",
      "Bib               \n",
      "14        4006.0  \n",
      "Kitale      Age M/F    City State Country     Half      40K     Pace  TotalSeconds  \\\n",
      "Bib                                                                           \n",
      "11    33   M  Kitale   NaN     KEN 01:06:46 02:06:47  0:05:07        7607.0   \n",
      "\n",
      "     HalfSeconds  \n",
      "Bib               \n",
      "11        4006.0  \n",
      "Nijmegen      Age M/F      City State Country     Half      40K     Pace  TotalSeconds  \\\n",
      "Bib                                                                             \n",
      "17    27   M  Nijmegen   NaN     NED 01:06:47 02:08:38  0:05:16        7718.0   \n",
      "\n",
      "     HalfSeconds  \n",
      "Bib               \n",
      "17        4007.0  \n"
     ]
    }
   ],
   "source": [
    "for city, city_data in group_city:\n",
    "    print(city, city_data.nsmallest(1,\"TotalSeconds\"))"
   ]
  },
  {
   "cell_type": "markdown",
   "metadata": {},
   "source": [
    "## Exercise 8"
   ]
  },
  {
   "cell_type": "code",
   "execution_count": 27,
   "metadata": {},
   "outputs": [],
   "source": [
    "the_best_per_city = pd.DataFrame()"
   ]
  },
  {
   "cell_type": "code",
   "execution_count": 28,
   "metadata": {},
   "outputs": [
    {
     "data": {
      "text/html": [
       "<div>\n",
       "<style scoped>\n",
       "    .dataframe tbody tr th:only-of-type {\n",
       "        vertical-align: middle;\n",
       "    }\n",
       "\n",
       "    .dataframe tbody tr th {\n",
       "        vertical-align: top;\n",
       "    }\n",
       "\n",
       "    .dataframe thead th {\n",
       "        text-align: right;\n",
       "    }\n",
       "</style>\n",
       "<table border=\"1\" class=\"dataframe\">\n",
       "  <thead>\n",
       "    <tr style=\"text-align: right;\">\n",
       "      <th></th>\n",
       "      <th>Age</th>\n",
       "      <th>M/F</th>\n",
       "      <th>City</th>\n",
       "      <th>State</th>\n",
       "      <th>Country</th>\n",
       "      <th>Half</th>\n",
       "      <th>40K</th>\n",
       "      <th>Pace</th>\n",
       "      <th>TotalSeconds</th>\n",
       "      <th>HalfSeconds</th>\n",
       "    </tr>\n",
       "    <tr>\n",
       "      <th>Bib</th>\n",
       "      <th></th>\n",
       "      <th></th>\n",
       "      <th></th>\n",
       "      <th></th>\n",
       "      <th></th>\n",
       "      <th></th>\n",
       "      <th></th>\n",
       "      <th></th>\n",
       "      <th></th>\n",
       "      <th></th>\n",
       "    </tr>\n",
       "  </thead>\n",
       "  <tbody>\n",
       "    <tr>\n",
       "      <th>5</th>\n",
       "      <td>21</td>\n",
       "      <td>M</td>\n",
       "      <td>Addis Ababa</td>\n",
       "      <td>NaN</td>\n",
       "      <td>ETH</td>\n",
       "      <td>01:06:45</td>\n",
       "      <td>02:05:59</td>\n",
       "      <td>0:05:04</td>\n",
       "      <td>7559.0</td>\n",
       "      <td>4005.0</td>\n",
       "    </tr>\n",
       "    <tr>\n",
       "      <th>1</th>\n",
       "      <td>26</td>\n",
       "      <td>M</td>\n",
       "      <td>Ambo</td>\n",
       "      <td>NaN</td>\n",
       "      <td>ETH</td>\n",
       "      <td>01:06:46</td>\n",
       "      <td>02:05:59</td>\n",
       "      <td>0:05:06</td>\n",
       "      <td>7559.0</td>\n",
       "      <td>4006.0</td>\n",
       "    </tr>\n",
       "    <tr>\n",
       "      <th>43</th>\n",
       "      <td>28</td>\n",
       "      <td>M</td>\n",
       "      <td>Dallas</td>\n",
       "      <td>TX</td>\n",
       "      <td>USA</td>\n",
       "      <td>01:07:57</td>\n",
       "      <td>02:12:47</td>\n",
       "      <td>0:05:25</td>\n",
       "      <td>7967.0</td>\n",
       "      <td>4077.0</td>\n",
       "    </tr>\n",
       "    <tr>\n",
       "      <th>14</th>\n",
       "      <td>23</td>\n",
       "      <td>M</td>\n",
       "      <td>Eldoret</td>\n",
       "      <td>NaN</td>\n",
       "      <td>KEN</td>\n",
       "      <td>01:06:46</td>\n",
       "      <td>02:08:11</td>\n",
       "      <td>0:05:11</td>\n",
       "      <td>7691.0</td>\n",
       "      <td>4006.0</td>\n",
       "    </tr>\n",
       "    <tr>\n",
       "      <th>11</th>\n",
       "      <td>33</td>\n",
       "      <td>M</td>\n",
       "      <td>Kitale</td>\n",
       "      <td>NaN</td>\n",
       "      <td>KEN</td>\n",
       "      <td>01:06:46</td>\n",
       "      <td>02:06:47</td>\n",
       "      <td>0:05:07</td>\n",
       "      <td>7607.0</td>\n",
       "      <td>4006.0</td>\n",
       "    </tr>\n",
       "  </tbody>\n",
       "</table>\n",
       "</div>"
      ],
      "text/plain": [
       "     Age M/F         City State Country     Half      40K     Pace  \\\n",
       "Bib                                                                  \n",
       "5     21   M  Addis Ababa   NaN     ETH 01:06:45 02:05:59  0:05:04   \n",
       "1     26   M         Ambo   NaN     ETH 01:06:46 02:05:59  0:05:06   \n",
       "43    28   M       Dallas    TX     USA 01:07:57 02:12:47  0:05:25   \n",
       "14    23   M      Eldoret   NaN     KEN 01:06:46 02:08:11  0:05:11   \n",
       "11    33   M       Kitale   NaN     KEN 01:06:46 02:06:47  0:05:07   \n",
       "\n",
       "     TotalSeconds  HalfSeconds  \n",
       "Bib                             \n",
       "5          7559.0       4005.0  \n",
       "1          7559.0       4006.0  \n",
       "43         7967.0       4077.0  \n",
       "14         7691.0       4006.0  \n",
       "11         7607.0       4006.0  "
      ]
     },
     "execution_count": 28,
     "metadata": {},
     "output_type": "execute_result"
    }
   ],
   "source": [
    "for city, city_data in group_city:\n",
    "    the_best_per_city = the_best_per_city.append(city_data.nsmallest(1,\"TotalSeconds\"))\n",
    "the_best_per_city.head(5)"
   ]
  }
 ],
 "metadata": {
  "kernelspec": {
   "display_name": "Python 3",
   "language": "python",
   "name": "python3"
  },
  "language_info": {
   "codemirror_mode": {
    "name": "ipython",
    "version": 3
   },
   "file_extension": ".py",
   "mimetype": "text/x-python",
   "name": "python",
   "nbconvert_exporter": "python",
   "pygments_lexer": "ipython3",
   "version": "3.7.5"
  }
 },
 "nbformat": 4,
 "nbformat_minor": 2
}
