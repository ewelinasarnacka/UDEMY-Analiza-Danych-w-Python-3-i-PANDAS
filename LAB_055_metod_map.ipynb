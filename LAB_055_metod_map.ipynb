{
 "cells": [
  {
   "cell_type": "markdown",
   "metadata": {},
   "source": [
    "# LAB 55\n",
    "\n",
    "1. Zaimportuj moduł pandas i nadaj mu standardowy alias. Zaimportuj też moduł random i nadaj mu alias rd.\n",
    "2. Pracujesz dla linii lotniczych PYTHON Express (wszelkie podobieństwa do innych linii lotniczych sąprzypadkowe). Ta linia lotnicza posiada obecnie tylko 3 samoloty:\n",
    "    * symbol PYT001 - Airbus 320\n",
    "    * symbol PYT002 - Boeing 737\n",
    "    * symbol PYT003 - Airbus 321\n",
    "    \n",
    "   Zadeklaruj słownik, którego indeksami są w/w symbole, a wartościami nazwy samolotów.\n",
    "3. Utwórz serię aircrafts w oparciu o dane z w/w słownika\n",
    "4. Teraz wygenerujemy losową listę przelotów. Zadeklaruj pustą listę flightsList. Korzystając z pętli for, dodaj do listy 100 losowych wartości pochodzących z indeksu serii aircrafts (elementy na tej liście powinny być symbolami samolotów). Wyświetl 5 pierwszych wartości z tej listy. (Ponieważ korzystamy z funkcji losowych wyniki mogą się różnić).\n",
    "5. W oparciu o listę flightsList, utwórz serię o nazwie flights. Wyświetl pięć pierwszych pozycji z listy.\n",
    "6. Lista 100 lotów zawiera obecnie losowe przeloty, coś w stylu 0 - PYT002 / 1 - PYT003 / 2 - PYT002 /... My jednak chcielibyśmy zobaczyć listę z nazwami samolotów! Utwórz nową listę o nazwie flights_aircrafts, która będzie zawierała informacje o lotach, ale w kolumnie wartości zamist symbolu samolotu ma się pojawić jego nazwa. Wyświetl z tej listy 5 pierwszych pozycji."
   ]
  },
  {
   "cell_type": "markdown",
   "metadata": {},
   "source": [
    "## Exercise 1"
   ]
  },
  {
   "cell_type": "code",
   "execution_count": 4,
   "metadata": {},
   "outputs": [],
   "source": [
    "import pandas as pd\n",
    "import numpy as np\n",
    "import matplotlib.pyplot as plt\n",
    "import math as math\n",
    "import random as rt"
   ]
  },
  {
   "cell_type": "markdown",
   "metadata": {},
   "source": [
    "## Exercise 2"
   ]
  },
  {
   "cell_type": "code",
   "execution_count": 11,
   "metadata": {},
   "outputs": [
    {
     "data": {
      "text/plain": [
       "{'PYT001': 'Airbus 320', 'PYT002': 'Boeing 737', 'PYT003': 'Airbus 321'}"
      ]
     },
     "execution_count": 11,
     "metadata": {},
     "output_type": "execute_result"
    }
   ],
   "source": [
    "aircraftDict = {\"PYT001\": \"Airbus 320\",   \n",
    "            \"PYT002\":\"Boeing 737\",\n",
    "            \"PYT003\":\"Airbus 321\",}\n",
    "aircraftDict"
   ]
  },
  {
   "cell_type": "markdown",
   "metadata": {},
   "source": [
    "## Exercise 3"
   ]
  },
  {
   "cell_type": "code",
   "execution_count": 12,
   "metadata": {},
   "outputs": [
    {
     "data": {
      "text/plain": [
       "PYT001    Airbus 320\n",
       "PYT002    Boeing 737\n",
       "PYT003    Airbus 321\n",
       "dtype: object"
      ]
     },
     "execution_count": 12,
     "metadata": {},
     "output_type": "execute_result"
    }
   ],
   "source": [
    "aircrafts = pd.Series(aircraftDict)\n",
    "aircrafts"
   ]
  },
  {
   "cell_type": "markdown",
   "metadata": {},
   "source": [
    "## Exercise 4"
   ]
  },
  {
   "cell_type": "code",
   "execution_count": 16,
   "metadata": {},
   "outputs": [
    {
     "data": {
      "text/plain": [
       "['PYT003',\n",
       " 'PYT002',\n",
       " 'PYT002',\n",
       " 'PYT003',\n",
       " 'PYT001',\n",
       " 'PYT003',\n",
       " 'PYT003',\n",
       " 'PYT001',\n",
       " 'PYT003',\n",
       " 'PYT001']"
      ]
     },
     "execution_count": 16,
     "metadata": {},
     "output_type": "execute_result"
    }
   ],
   "source": [
    "flightsList = []\n",
    "for i in range(100):\n",
    "    lot = rt.choice(aircrafts.index)\n",
    "    flightsList.append(lot)\n",
    "flightsList[:10]"
   ]
  },
  {
   "cell_type": "code",
   "execution_count": 18,
   "metadata": {},
   "outputs": [
    {
     "data": {
      "text/plain": [
       "list"
      ]
     },
     "execution_count": 18,
     "metadata": {},
     "output_type": "execute_result"
    }
   ],
   "source": [
    "type(flightsList)"
   ]
  },
  {
   "cell_type": "markdown",
   "metadata": {},
   "source": [
    "## Exercise 5"
   ]
  },
  {
   "cell_type": "code",
   "execution_count": 17,
   "metadata": {},
   "outputs": [
    {
     "data": {
      "text/plain": [
       "0     PYT003\n",
       "1     PYT002\n",
       "2     PYT002\n",
       "3     PYT003\n",
       "4     PYT001\n",
       "       ...  \n",
       "95    PYT002\n",
       "96    PYT001\n",
       "97    PYT003\n",
       "98    PYT003\n",
       "99    PYT003\n",
       "Length: 100, dtype: object"
      ]
     },
     "execution_count": 17,
     "metadata": {},
     "output_type": "execute_result"
    }
   ],
   "source": [
    "flights = pd.Series(flightsList)\n",
    "flights"
   ]
  },
  {
   "cell_type": "markdown",
   "metadata": {},
   "source": [
    "## Exercise 6"
   ]
  },
  {
   "cell_type": "code",
   "execution_count": 19,
   "metadata": {},
   "outputs": [
    {
     "data": {
      "text/plain": [
       "0    Airbus 321\n",
       "1    Boeing 737\n",
       "2    Boeing 737\n",
       "3    Airbus 321\n",
       "4    Airbus 320\n",
       "dtype: object"
      ]
     },
     "execution_count": 19,
     "metadata": {},
     "output_type": "execute_result"
    }
   ],
   "source": [
    "flights_aircrafts = flights.map(aircrafts)\n",
    "flights_aircrafts.head()"
   ]
  },
  {
   "cell_type": "code",
   "execution_count": null,
   "metadata": {},
   "outputs": [],
   "source": []
  }
 ],
 "metadata": {
  "kernelspec": {
   "display_name": "Python 3",
   "language": "python",
   "name": "python3"
  },
  "language_info": {
   "codemirror_mode": {
    "name": "ipython",
    "version": 3
   },
   "file_extension": ".py",
   "mimetype": "text/x-python",
   "name": "python",
   "nbconvert_exporter": "python",
   "pygments_lexer": "ipython3",
   "version": "3.7.5"
  }
 },
 "nbformat": 4,
 "nbformat_minor": 2
}
