{
 "cells": [
  {
   "cell_type": "markdown",
   "metadata": {},
   "source": [
    "# LAB 39\n",
    "\n",
    "1. Zaimportuj moduły: pandas, numpy, matplotlib (tylko pyplot), math i nadaj im standardowe aliasy\n",
    "2. Z pliku StackOverflowDeveloperSurvey.csv wczytaj kolumnę Salary jako Data Series i zapisz ją w zmiennej salary. Wczytując elementy pomiń te ankiety, w których respondenci nie podali kwoty wynagrodzenia (użyj dropna()). Wyświetl 5 pierwszych elementó serii\n",
    "3. Posortuj dane wg wynagrodzenia malejąco (wyświetl tylko 5 pierwszych pozycji).\n",
    "4. Posortuj dane wg wynagrodzenia rosnąco (wyświetl tylko 5 pierwszych pozycji).\n",
    "5. Zmień parametry sortowania tak, aby lista została posortowana wewnętrznie na stałe wg wynagrodzenia malejąco. Wyświetl kilka początkowych elementów, aby przekonać się że obiekt jest teraz posortowany jak należy.\n",
    "6. Posortuj dane wg indeksu malejąco\n",
    "7. Zapisz w zmiennej maxSalaries 100 największych wynagrodzeń z serii Salary\n",
    "8. Zapisz w zmiennej minSalaries 100 najniższych wynagrodzeń z serii Salary\n",
    "9. Wyznacz średnią wartość z wynagrodzeń znajdujących się w serii maxSalaries\n",
    "10. Wyznacz średnią wartiść z wynagrodzeń znajdujących się w serii minSalaries"
   ]
  },
  {
   "cell_type": "markdown",
   "metadata": {},
   "source": [
    "## Exercise 1"
   ]
  },
  {
   "cell_type": "code",
   "execution_count": 1,
   "metadata": {},
   "outputs": [],
   "source": [
    "import pandas as pd\n",
    "import numpy as np\n",
    "import matplotlib.pyplot as plt\n",
    "import math as math"
   ]
  },
  {
   "cell_type": "markdown",
   "metadata": {},
   "source": [
    "## Exercise 2"
   ]
  },
  {
   "cell_type": "code",
   "execution_count": 4,
   "metadata": {},
   "outputs": [
    {
     "data": {
      "text/plain": [
       "2     113750.0\n",
       "14    100000.0\n",
       "17    130000.0\n",
       "18     82500.0\n",
       "22    100764.0\n",
       "Name: Salary, dtype: float64"
      ]
     },
     "execution_count": 4,
     "metadata": {},
     "output_type": "execute_result"
    }
   ],
   "source": [
    "salary = pd.read_csv(\"StackOverflowDeveloperSurvey.csv\", usecols=[\"Salary\"], squeeze = True).dropna()\n",
    "salary[:5]"
   ]
  },
  {
   "cell_type": "markdown",
   "metadata": {},
   "source": [
    "## Exercise 3"
   ]
  },
  {
   "cell_type": "code",
   "execution_count": 7,
   "metadata": {},
   "outputs": [
    {
     "data": {
      "text/plain": [
       "31600    197000.0\n",
       "27943    195000.0\n",
       "6743     195000.0\n",
       "41398    195000.0\n",
       "1696     195000.0\n",
       "Name: Salary, dtype: float64"
      ]
     },
     "execution_count": 7,
     "metadata": {},
     "output_type": "execute_result"
    }
   ],
   "source": [
    "salary.sort_values(ascending=False).head()"
   ]
  },
  {
   "cell_type": "markdown",
   "metadata": {},
   "source": [
    "## Exercise 4"
   ]
  },
  {
   "cell_type": "code",
   "execution_count": 9,
   "metadata": {},
   "outputs": [
    {
     "data": {
      "text/plain": [
       "51144    0.0\n",
       "23953    0.0\n",
       "23907    0.0\n",
       "44841    0.0\n",
       "2951     0.0\n",
       "Name: Salary, dtype: float64"
      ]
     },
     "execution_count": 9,
     "metadata": {},
     "output_type": "execute_result"
    }
   ],
   "source": [
    "salary.sort_values().head()"
   ]
  },
  {
   "cell_type": "markdown",
   "metadata": {},
   "source": [
    "## Exercise 5"
   ]
  },
  {
   "cell_type": "code",
   "execution_count": 11,
   "metadata": {},
   "outputs": [
    {
     "data": {
      "text/plain": [
       "31600    197000.0\n",
       "27943    195000.0\n",
       "6743     195000.0\n",
       "41398    195000.0\n",
       "1696     195000.0\n",
       "Name: Salary, dtype: float64"
      ]
     },
     "execution_count": 11,
     "metadata": {},
     "output_type": "execute_result"
    }
   ],
   "source": [
    "salary.sort_values(inplace=True, ascending=False)\n",
    "salary.head()"
   ]
  },
  {
   "cell_type": "markdown",
   "metadata": {},
   "source": [
    "## Exercise 6"
   ]
  },
  {
   "cell_type": "code",
   "execution_count": 13,
   "metadata": {},
   "outputs": [
    {
     "data": {
      "text/plain": [
       "51390     40000.000000\n",
       "51387     58000.000000\n",
       "51382     32258.064516\n",
       "51378    107526.881720\n",
       "51371     74193.548387\n",
       "Name: Salary, dtype: float64"
      ]
     },
     "execution_count": 13,
     "metadata": {},
     "output_type": "execute_result"
    }
   ],
   "source": [
    "salary.sort_index(ascending=False).head()"
   ]
  },
  {
   "cell_type": "markdown",
   "metadata": {},
   "source": [
    "## Exercise 7"
   ]
  },
  {
   "cell_type": "code",
   "execution_count": 15,
   "metadata": {},
   "outputs": [
    {
     "data": {
      "text/plain": [
       "31600    197000.0\n",
       "27943    195000.0\n",
       "6743     195000.0\n",
       "41398    195000.0\n",
       "1696     195000.0\n",
       "           ...   \n",
       "22488    170000.0\n",
       "41861    170000.0\n",
       "29662    170000.0\n",
       "29971    170000.0\n",
       "14805    170000.0\n",
       "Name: Salary, Length: 100, dtype: float64"
      ]
     },
     "execution_count": 15,
     "metadata": {},
     "output_type": "execute_result"
    }
   ],
   "source": [
    "maxSalaries = salary.sort_values(ascending=False).head(100)\n",
    "maxSalaries"
   ]
  },
  {
   "cell_type": "markdown",
   "metadata": {},
   "source": [
    "## Exercise 8"
   ]
  },
  {
   "cell_type": "code",
   "execution_count": 16,
   "metadata": {},
   "outputs": [
    {
     "data": {
      "text/plain": [
       "51144      0.000000\n",
       "44841      0.000000\n",
       "23907      0.000000\n",
       "4517       0.000000\n",
       "2951       0.000000\n",
       "            ...    \n",
       "15179    176.185582\n",
       "33212    178.784267\n",
       "50569    198.208780\n",
       "48674    198.649186\n",
       "1077     200.000000\n",
       "Name: Salary, Length: 100, dtype: float64"
      ]
     },
     "execution_count": 16,
     "metadata": {},
     "output_type": "execute_result"
    }
   ],
   "source": [
    "minSalaries = salary.sort_values(ascending=True).head(100)\n",
    "minSalaries"
   ]
  },
  {
   "cell_type": "markdown",
   "metadata": {},
   "source": [
    "## Exercise 9"
   ]
  },
  {
   "cell_type": "code",
   "execution_count": 18,
   "metadata": {},
   "outputs": [
    {
     "data": {
      "text/plain": [
       "180198.1045586777"
      ]
     },
     "execution_count": 18,
     "metadata": {},
     "output_type": "execute_result"
    }
   ],
   "source": [
    "maxSalaries.mean()"
   ]
  },
  {
   "cell_type": "markdown",
   "metadata": {},
   "source": [
    "## Exercise 10"
   ]
  },
  {
   "cell_type": "code",
   "execution_count": 20,
   "metadata": {},
   "outputs": [
    {
     "data": {
      "text/plain": [
       "67.08388907133795"
      ]
     },
     "execution_count": 20,
     "metadata": {},
     "output_type": "execute_result"
    }
   ],
   "source": [
    "minSalaries.mean()"
   ]
  }
 ],
 "metadata": {
  "kernelspec": {
   "display_name": "Python 3",
   "language": "python",
   "name": "python3"
  },
  "language_info": {
   "codemirror_mode": {
    "name": "ipython",
    "version": 3
   },
   "file_extension": ".py",
   "mimetype": "text/x-python",
   "name": "python",
   "nbconvert_exporter": "python",
   "pygments_lexer": "ipython3",
   "version": "3.7.5"
  }
 },
 "nbformat": 4,
 "nbformat_minor": 2
}
