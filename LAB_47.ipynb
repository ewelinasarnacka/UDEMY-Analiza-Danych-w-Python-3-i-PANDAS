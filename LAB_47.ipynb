{
 "cells": [
  {
   "cell_type": "markdown",
   "metadata": {},
   "source": [
    "# LAB 47\n",
    "\n",
    "1. Zaimportuj moduł pandas i nadaj mu standardowy alias.\n",
    "2. Utwórz serię countries importując z pliku countries.csv kolumny Symbol i Name. Kolumna Symbol powinna stać sie indeksem serii. Skorzystaj z polecenia:\n",
    "   \n",
    "   *countries = pd.read_csv(\"countries.csv\", usecols ['Symbol','Name'],index_col='Symbol',squeeze=True)*\n",
    "    \n",
    "    \n",
    "3. Usuń niekopmpletne dane korzystając z polecenia:\n",
    "    *countries.dropna(inplace=True)*\n",
    "4. Wyświetl 20 pierwszych wierszy tej serii.\n",
    "5. Utwórz listę toFind zawierającą symbole krajów: BB, AA, BS (kraju AA nie ma w wykazie państw, bo to ... Atalantyda...\n",
    "6. Korzystając z metody loc i zmiennej wyświetl wynik poszukiwania krajów o symbolach z listy toFind. (Oprócz wyniku powinno zostać wyświetlone ostrzeżenie)\n",
    "7. Wyszukaj krajów toFind korzystając z metody reindex.\n",
    "8. Wyświetl listę będącą częścią wspólną indeksu serii countries oraz listy toFind.\n",
    "9. Korzystając z metody loc oraz listy wygenerowanej w poprzednim punkcie wyświetl kraje o symbolach z listy toFind"
   ]
  },
  {
   "cell_type": "markdown",
   "metadata": {},
   "source": [
    "## Exercise 1"
   ]
  },
  {
   "cell_type": "code",
   "execution_count": 1,
   "metadata": {},
   "outputs": [],
   "source": [
    "import pandas as pd\n",
    "import numpy as np\n",
    "import matplotlib as plt\n",
    "import math as math"
   ]
  },
  {
   "cell_type": "markdown",
   "metadata": {},
   "source": [
    "## Exercise 2"
   ]
  },
  {
   "cell_type": "code",
   "execution_count": 5,
   "metadata": {},
   "outputs": [
    {
     "data": {
      "text/plain": [
       "Symbol\n",
       "AF    Afghanistan\n",
       "AL        Albania\n",
       "DZ        Algeria\n",
       "AD        Andorra\n",
       "AO         Angola\n",
       "Name: Name, dtype: object"
      ]
     },
     "execution_count": 5,
     "metadata": {},
     "output_type": "execute_result"
    }
   ],
   "source": [
    "countries = pd.read_csv(\"countries.csv\", usecols = ['Symbol','Name'], index_col = 'Symbol', squeeze = True)\n",
    "countries.head()"
   ]
  },
  {
   "cell_type": "markdown",
   "metadata": {},
   "source": [
    "## Exercise 3"
   ]
  },
  {
   "cell_type": "code",
   "execution_count": 7,
   "metadata": {},
   "outputs": [],
   "source": [
    "countries.dropna(inplace = True)"
   ]
  },
  {
   "cell_type": "markdown",
   "metadata": {},
   "source": [
    "## Exercise 4"
   ]
  },
  {
   "cell_type": "code",
   "execution_count": 8,
   "metadata": {},
   "outputs": [
    {
     "data": {
      "text/plain": [
       "Symbol\n",
       "AF            Afghanistan\n",
       "AL                Albania\n",
       "DZ                Algeria\n",
       "AD                Andorra\n",
       "AO                 Angola\n",
       "AI               Anguilla\n",
       "AQ             Antarctica\n",
       "AG    Antigua and Barbuda\n",
       "SA           Saudi Arabia\n",
       "AR              Argentina\n",
       "AM                Armenia\n",
       "AW                  Aruba\n",
       "AU              Australia\n",
       "AT                Austria\n",
       "AZ             Azerbaijan\n",
       "BS                Bahamas\n",
       "BH                Bahrain\n",
       "BD             Bangladesh\n",
       "BB               Barbados\n",
       "BE                Belgium\n",
       "Name: Name, dtype: object"
      ]
     },
     "execution_count": 8,
     "metadata": {},
     "output_type": "execute_result"
    }
   ],
   "source": [
    "countries.head(20)"
   ]
  },
  {
   "cell_type": "markdown",
   "metadata": {},
   "source": [
    "## Exercise 5"
   ]
  },
  {
   "cell_type": "code",
   "execution_count": 10,
   "metadata": {},
   "outputs": [
    {
     "data": {
      "text/plain": [
       "['BB', 'AA', 'BS']"
      ]
     },
     "execution_count": 10,
     "metadata": {},
     "output_type": "execute_result"
    }
   ],
   "source": [
    "toFind = [\"BB\", \"AA\", \"BS\"]\n",
    "toFind"
   ]
  },
  {
   "cell_type": "code",
   "execution_count": 12,
   "metadata": {},
   "outputs": [
    {
     "data": {
      "text/plain": [
       "list"
      ]
     },
     "execution_count": 12,
     "metadata": {},
     "output_type": "execute_result"
    }
   ],
   "source": [
    "type(toFind)"
   ]
  },
  {
   "cell_type": "markdown",
   "metadata": {},
   "source": [
    "## Exercise 6"
   ]
  },
  {
   "cell_type": "code",
   "execution_count": 13,
   "metadata": {},
   "outputs": [
    {
     "name": "stderr",
     "output_type": "stream",
     "text": [
      "/Users/ewelina/opt/anaconda3/lib/python3.7/site-packages/ipykernel_launcher.py:1: FutureWarning: \n",
      "Passing list-likes to .loc or [] with any missing label will raise\n",
      "KeyError in the future, you can use .reindex() as an alternative.\n",
      "\n",
      "See the documentation here:\n",
      "https://pandas.pydata.org/pandas-docs/stable/user_guide/indexing.html#deprecate-loc-reindex-listlike\n",
      "  \"\"\"Entry point for launching an IPython kernel.\n"
     ]
    },
    {
     "data": {
      "text/plain": [
       "Symbol\n",
       "BB    Barbados\n",
       "AA         NaN\n",
       "BS     Bahamas\n",
       "Name: Name, dtype: object"
      ]
     },
     "execution_count": 13,
     "metadata": {},
     "output_type": "execute_result"
    }
   ],
   "source": [
    "countries.loc[toFind]"
   ]
  },
  {
   "cell_type": "markdown",
   "metadata": {},
   "source": [
    "## Exercise 7"
   ]
  },
  {
   "cell_type": "code",
   "execution_count": 15,
   "metadata": {},
   "outputs": [
    {
     "data": {
      "text/plain": [
       "Symbol\n",
       "BB    Barbados\n",
       "AA         NaN\n",
       "BS     Bahamas\n",
       "Name: Name, dtype: object"
      ]
     },
     "execution_count": 15,
     "metadata": {},
     "output_type": "execute_result"
    }
   ],
   "source": [
    "countries.reindex(toFind)"
   ]
  },
  {
   "cell_type": "markdown",
   "metadata": {},
   "source": [
    "## Exercise 8"
   ]
  },
  {
   "cell_type": "code",
   "execution_count": 16,
   "metadata": {},
   "outputs": [
    {
     "data": {
      "text/plain": [
       "Index(['BS', 'BB'], dtype='object')"
      ]
     },
     "execution_count": 16,
     "metadata": {},
     "output_type": "execute_result"
    }
   ],
   "source": [
    "countries.index.intersection(toFind)"
   ]
  },
  {
   "cell_type": "markdown",
   "metadata": {},
   "source": [
    "## Exercise 9"
   ]
  },
  {
   "cell_type": "code",
   "execution_count": 17,
   "metadata": {},
   "outputs": [
    {
     "data": {
      "text/plain": [
       "BS     Bahamas\n",
       "BB    Barbados\n",
       "Name: Name, dtype: object"
      ]
     },
     "execution_count": 17,
     "metadata": {},
     "output_type": "execute_result"
    }
   ],
   "source": [
    "countries.loc[countries.index.intersection(toFind)]"
   ]
  }
 ],
 "metadata": {
  "kernelspec": {
   "display_name": "Python 3",
   "language": "python",
   "name": "python3"
  },
  "language_info": {
   "codemirror_mode": {
    "name": "ipython",
    "version": 3
   },
   "file_extension": ".py",
   "mimetype": "text/x-python",
   "name": "python",
   "nbconvert_exporter": "python",
   "pygments_lexer": "ipython3",
   "version": "3.7.5"
  }
 },
 "nbformat": 4,
 "nbformat_minor": 2
}
