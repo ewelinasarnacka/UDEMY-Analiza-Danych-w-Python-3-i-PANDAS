{
 "cells": [
  {
   "cell_type": "markdown",
   "metadata": {},
   "source": [
    "# LAB 133\n",
    "\n",
    "1. Zaimportuj moduł pandas i numpy nadaj im standardowe aliasy\n",
    "2. Do zmiennej suppliers zaimportuj zawartość pliku suppliers.csv. Pobierz tylko kolumny SupplierID, CompanyName, City\n",
    "3. Do zmiennej products zaimportuj zawartość pliku products_del_2.csv\". Pobierz tylko kolumny ProductID, ProductName, SupplierID**\n",
    "4. Należy odnaleźć tych dostawców z suppliers, którzy nie dostarczają żadnych produktów. W tym celu wykonuj kolejne kroki\n",
    "5. W zmiennej sup_prod zapisz wynik zwykłego złaczenia suppliers i products w oparciu o kolumnę SupplierID. Skorzystaj z parametru indicator. \n",
    "6. Wyświetl ilość elementów w suppliers, products i sup_prod. Powinieneś uzyskać wyniki: 29/68/68\n",
    "8. W zmiennej sup_prod_left zapisz wynik złączenia typu left z suppliers do products w oparciu o kolumnę SupplierID. Skorzystaj z prarametru indicator\n",
    "9. Wyświetl ilość elementów w suppliers, products i sup_prod. Powinieneś uzyskać wyniki: 29/68/70. Oznacza to, że \"idąc od suppliers do products\", dla 2 dostawców nie udało się znaleźć żadnych produktów, które byłyby przez nich dostarczane.\n",
    "10. Wyświetl te wiersze z sup_prod_left, które w kolumnie \"merged posiadają wartość left_only\n",
    "10. Jeżeli chcesz tak przekształć operacje 7-9, aby to samo zadanie zrealizować korzystając z right merge"
   ]
  },
  {
   "cell_type": "markdown",
   "metadata": {},
   "source": [
    "## Exercise 1"
   ]
  },
  {
   "cell_type": "code",
   "execution_count": 1,
   "metadata": {},
   "outputs": [],
   "source": [
    "import pandas as pd\n",
    "import numpy as np\n",
    "import matplotlib.pyplot as plt\n",
    "import math as math"
   ]
  },
  {
   "cell_type": "markdown",
   "metadata": {},
   "source": [
    "## Exercise 2"
   ]
  },
  {
   "cell_type": "code",
   "execution_count": 2,
   "metadata": {},
   "outputs": [
    {
     "data": {
      "text/html": [
       "<div>\n",
       "<style scoped>\n",
       "    .dataframe tbody tr th:only-of-type {\n",
       "        vertical-align: middle;\n",
       "    }\n",
       "\n",
       "    .dataframe tbody tr th {\n",
       "        vertical-align: top;\n",
       "    }\n",
       "\n",
       "    .dataframe thead th {\n",
       "        text-align: right;\n",
       "    }\n",
       "</style>\n",
       "<table border=\"1\" class=\"dataframe\">\n",
       "  <thead>\n",
       "    <tr style=\"text-align: right;\">\n",
       "      <th></th>\n",
       "      <th>SupplierID</th>\n",
       "      <th>CompanyName</th>\n",
       "      <th>City</th>\n",
       "    </tr>\n",
       "  </thead>\n",
       "  <tbody>\n",
       "    <tr>\n",
       "      <th>0</th>\n",
       "      <td>1</td>\n",
       "      <td>Exotic Liquids</td>\n",
       "      <td>London</td>\n",
       "    </tr>\n",
       "    <tr>\n",
       "      <th>1</th>\n",
       "      <td>2</td>\n",
       "      <td>New Orleans Cajun Delights</td>\n",
       "      <td>New Orleans</td>\n",
       "    </tr>\n",
       "    <tr>\n",
       "      <th>2</th>\n",
       "      <td>3</td>\n",
       "      <td>Grandma Kelly's Homestead</td>\n",
       "      <td>Ann Arbor</td>\n",
       "    </tr>\n",
       "    <tr>\n",
       "      <th>3</th>\n",
       "      <td>4</td>\n",
       "      <td>Tokyo Traders</td>\n",
       "      <td>Tokyo</td>\n",
       "    </tr>\n",
       "    <tr>\n",
       "      <th>4</th>\n",
       "      <td>5</td>\n",
       "      <td>Cooperativa de Quesos 'Las Cabras'</td>\n",
       "      <td>Oviedo</td>\n",
       "    </tr>\n",
       "  </tbody>\n",
       "</table>\n",
       "</div>"
      ],
      "text/plain": [
       "   SupplierID                         CompanyName         City\n",
       "0           1                      Exotic Liquids       London\n",
       "1           2          New Orleans Cajun Delights  New Orleans\n",
       "2           3           Grandma Kelly's Homestead    Ann Arbor\n",
       "3           4                       Tokyo Traders        Tokyo\n",
       "4           5  Cooperativa de Quesos 'Las Cabras'       Oviedo"
      ]
     },
     "execution_count": 2,
     "metadata": {},
     "output_type": "execute_result"
    }
   ],
   "source": [
    "suppliers = pd.read_csv(\"suppliers.csv\", usecols=[\"SupplierID\",\"CompanyName\",\"City\"])\n",
    "suppliers.head()"
   ]
  },
  {
   "cell_type": "markdown",
   "metadata": {},
   "source": [
    "## Exercise 3"
   ]
  },
  {
   "cell_type": "code",
   "execution_count": 3,
   "metadata": {},
   "outputs": [
    {
     "data": {
      "text/html": [
       "<div>\n",
       "<style scoped>\n",
       "    .dataframe tbody tr th:only-of-type {\n",
       "        vertical-align: middle;\n",
       "    }\n",
       "\n",
       "    .dataframe tbody tr th {\n",
       "        vertical-align: top;\n",
       "    }\n",
       "\n",
       "    .dataframe thead th {\n",
       "        text-align: right;\n",
       "    }\n",
       "</style>\n",
       "<table border=\"1\" class=\"dataframe\">\n",
       "  <thead>\n",
       "    <tr style=\"text-align: right;\">\n",
       "      <th></th>\n",
       "      <th>ProductID</th>\n",
       "      <th>ProductName</th>\n",
       "      <th>SupplierID</th>\n",
       "    </tr>\n",
       "  </thead>\n",
       "  <tbody>\n",
       "    <tr>\n",
       "      <th>0</th>\n",
       "      <td>1</td>\n",
       "      <td>Chai</td>\n",
       "      <td>1</td>\n",
       "    </tr>\n",
       "    <tr>\n",
       "      <th>1</th>\n",
       "      <td>2</td>\n",
       "      <td>Chang</td>\n",
       "      <td>1</td>\n",
       "    </tr>\n",
       "    <tr>\n",
       "      <th>2</th>\n",
       "      <td>6</td>\n",
       "      <td>Grandma's Boysenberry Spread</td>\n",
       "      <td>3</td>\n",
       "    </tr>\n",
       "    <tr>\n",
       "      <th>3</th>\n",
       "      <td>7</td>\n",
       "      <td>Uncle Bob's Organic Dried Pears</td>\n",
       "      <td>3</td>\n",
       "    </tr>\n",
       "    <tr>\n",
       "      <th>4</th>\n",
       "      <td>8</td>\n",
       "      <td>Northwoods Cranberry Sauce</td>\n",
       "      <td>3</td>\n",
       "    </tr>\n",
       "  </tbody>\n",
       "</table>\n",
       "</div>"
      ],
      "text/plain": [
       "   ProductID                      ProductName  SupplierID\n",
       "0          1                             Chai           1\n",
       "1          2                            Chang           1\n",
       "2          6     Grandma's Boysenberry Spread           3\n",
       "3          7  Uncle Bob's Organic Dried Pears           3\n",
       "4          8       Northwoods Cranberry Sauce           3"
      ]
     },
     "execution_count": 3,
     "metadata": {},
     "output_type": "execute_result"
    }
   ],
   "source": [
    "products = pd.read_csv(\"products_del_2.csv\", usecols=[\"ProductID\",\"ProductName\",\"SupplierID\"])\n",
    "products.head()"
   ]
  },
  {
   "cell_type": "markdown",
   "metadata": {},
   "source": [
    "## Exercise 4"
   ]
  },
  {
   "cell_type": "markdown",
   "metadata": {},
   "source": [
    "## Exercise 5"
   ]
  },
  {
   "cell_type": "code",
   "execution_count": 4,
   "metadata": {},
   "outputs": [
    {
     "data": {
      "text/html": [
       "<div>\n",
       "<style scoped>\n",
       "    .dataframe tbody tr th:only-of-type {\n",
       "        vertical-align: middle;\n",
       "    }\n",
       "\n",
       "    .dataframe tbody tr th {\n",
       "        vertical-align: top;\n",
       "    }\n",
       "\n",
       "    .dataframe thead th {\n",
       "        text-align: right;\n",
       "    }\n",
       "</style>\n",
       "<table border=\"1\" class=\"dataframe\">\n",
       "  <thead>\n",
       "    <tr style=\"text-align: right;\">\n",
       "      <th></th>\n",
       "      <th>SupplierID</th>\n",
       "      <th>CompanyName</th>\n",
       "      <th>City</th>\n",
       "      <th>ProductID</th>\n",
       "      <th>ProductName</th>\n",
       "      <th>_merge</th>\n",
       "    </tr>\n",
       "  </thead>\n",
       "  <tbody>\n",
       "    <tr>\n",
       "      <th>0</th>\n",
       "      <td>1</td>\n",
       "      <td>Exotic Liquids</td>\n",
       "      <td>London</td>\n",
       "      <td>1</td>\n",
       "      <td>Chai</td>\n",
       "      <td>both</td>\n",
       "    </tr>\n",
       "    <tr>\n",
       "      <th>1</th>\n",
       "      <td>1</td>\n",
       "      <td>Exotic Liquids</td>\n",
       "      <td>London</td>\n",
       "      <td>2</td>\n",
       "      <td>Chang</td>\n",
       "      <td>both</td>\n",
       "    </tr>\n",
       "    <tr>\n",
       "      <th>2</th>\n",
       "      <td>3</td>\n",
       "      <td>Grandma Kelly's Homestead</td>\n",
       "      <td>Ann Arbor</td>\n",
       "      <td>6</td>\n",
       "      <td>Grandma's Boysenberry Spread</td>\n",
       "      <td>both</td>\n",
       "    </tr>\n",
       "    <tr>\n",
       "      <th>3</th>\n",
       "      <td>3</td>\n",
       "      <td>Grandma Kelly's Homestead</td>\n",
       "      <td>Ann Arbor</td>\n",
       "      <td>7</td>\n",
       "      <td>Uncle Bob's Organic Dried Pears</td>\n",
       "      <td>both</td>\n",
       "    </tr>\n",
       "    <tr>\n",
       "      <th>4</th>\n",
       "      <td>3</td>\n",
       "      <td>Grandma Kelly's Homestead</td>\n",
       "      <td>Ann Arbor</td>\n",
       "      <td>8</td>\n",
       "      <td>Northwoods Cranberry Sauce</td>\n",
       "      <td>both</td>\n",
       "    </tr>\n",
       "  </tbody>\n",
       "</table>\n",
       "</div>"
      ],
      "text/plain": [
       "   SupplierID                CompanyName       City  ProductID  \\\n",
       "0           1             Exotic Liquids     London          1   \n",
       "1           1             Exotic Liquids     London          2   \n",
       "2           3  Grandma Kelly's Homestead  Ann Arbor          6   \n",
       "3           3  Grandma Kelly's Homestead  Ann Arbor          7   \n",
       "4           3  Grandma Kelly's Homestead  Ann Arbor          8   \n",
       "\n",
       "                       ProductName _merge  \n",
       "0                             Chai   both  \n",
       "1                            Chang   both  \n",
       "2     Grandma's Boysenberry Spread   both  \n",
       "3  Uncle Bob's Organic Dried Pears   both  \n",
       "4       Northwoods Cranberry Sauce   both  "
      ]
     },
     "execution_count": 4,
     "metadata": {},
     "output_type": "execute_result"
    }
   ],
   "source": [
    "sup_prod = suppliers.merge(products, how='inner', on='SupplierID',indicator=True)\n",
    "sup_prod.head()"
   ]
  },
  {
   "cell_type": "markdown",
   "metadata": {},
   "source": [
    "## Exercise 6"
   ]
  },
  {
   "cell_type": "code",
   "execution_count": 5,
   "metadata": {},
   "outputs": [
    {
     "name": "stdout",
     "output_type": "stream",
     "text": [
      "29\n",
      "68\n",
      "68\n"
     ]
    }
   ],
   "source": [
    "print(len(suppliers))\n",
    "print(len(products))\n",
    "print(len(sup_prod))"
   ]
  },
  {
   "cell_type": "markdown",
   "metadata": {},
   "source": [
    "## Exercise 7"
   ]
  },
  {
   "cell_type": "code",
   "execution_count": 6,
   "metadata": {},
   "outputs": [
    {
     "data": {
      "text/html": [
       "<div>\n",
       "<style scoped>\n",
       "    .dataframe tbody tr th:only-of-type {\n",
       "        vertical-align: middle;\n",
       "    }\n",
       "\n",
       "    .dataframe tbody tr th {\n",
       "        vertical-align: top;\n",
       "    }\n",
       "\n",
       "    .dataframe thead th {\n",
       "        text-align: right;\n",
       "    }\n",
       "</style>\n",
       "<table border=\"1\" class=\"dataframe\">\n",
       "  <thead>\n",
       "    <tr style=\"text-align: right;\">\n",
       "      <th></th>\n",
       "      <th>SupplierID</th>\n",
       "      <th>CompanyName</th>\n",
       "      <th>City</th>\n",
       "      <th>ProductID</th>\n",
       "      <th>ProductName</th>\n",
       "      <th>_merge</th>\n",
       "    </tr>\n",
       "  </thead>\n",
       "  <tbody>\n",
       "    <tr>\n",
       "      <th>0</th>\n",
       "      <td>1</td>\n",
       "      <td>Exotic Liquids</td>\n",
       "      <td>London</td>\n",
       "      <td>1.0</td>\n",
       "      <td>Chai</td>\n",
       "      <td>both</td>\n",
       "    </tr>\n",
       "    <tr>\n",
       "      <th>1</th>\n",
       "      <td>1</td>\n",
       "      <td>Exotic Liquids</td>\n",
       "      <td>London</td>\n",
       "      <td>2.0</td>\n",
       "      <td>Chang</td>\n",
       "      <td>both</td>\n",
       "    </tr>\n",
       "    <tr>\n",
       "      <th>2</th>\n",
       "      <td>2</td>\n",
       "      <td>New Orleans Cajun Delights</td>\n",
       "      <td>New Orleans</td>\n",
       "      <td>NaN</td>\n",
       "      <td>NaN</td>\n",
       "      <td>left_only</td>\n",
       "    </tr>\n",
       "    <tr>\n",
       "      <th>3</th>\n",
       "      <td>3</td>\n",
       "      <td>Grandma Kelly's Homestead</td>\n",
       "      <td>Ann Arbor</td>\n",
       "      <td>6.0</td>\n",
       "      <td>Grandma's Boysenberry Spread</td>\n",
       "      <td>both</td>\n",
       "    </tr>\n",
       "    <tr>\n",
       "      <th>4</th>\n",
       "      <td>3</td>\n",
       "      <td>Grandma Kelly's Homestead</td>\n",
       "      <td>Ann Arbor</td>\n",
       "      <td>7.0</td>\n",
       "      <td>Uncle Bob's Organic Dried Pears</td>\n",
       "      <td>both</td>\n",
       "    </tr>\n",
       "  </tbody>\n",
       "</table>\n",
       "</div>"
      ],
      "text/plain": [
       "   SupplierID                 CompanyName         City  ProductID  \\\n",
       "0           1              Exotic Liquids       London        1.0   \n",
       "1           1              Exotic Liquids       London        2.0   \n",
       "2           2  New Orleans Cajun Delights  New Orleans        NaN   \n",
       "3           3   Grandma Kelly's Homestead    Ann Arbor        6.0   \n",
       "4           3   Grandma Kelly's Homestead    Ann Arbor        7.0   \n",
       "\n",
       "                       ProductName     _merge  \n",
       "0                             Chai       both  \n",
       "1                            Chang       both  \n",
       "2                              NaN  left_only  \n",
       "3     Grandma's Boysenberry Spread       both  \n",
       "4  Uncle Bob's Organic Dried Pears       both  "
      ]
     },
     "execution_count": 6,
     "metadata": {},
     "output_type": "execute_result"
    }
   ],
   "source": [
    "sup_prod_left = suppliers.merge(products, how='left', on='SupplierID',indicator=True)\n",
    "sup_prod_left.head()"
   ]
  },
  {
   "cell_type": "markdown",
   "metadata": {},
   "source": [
    "## Exercise 8"
   ]
  },
  {
   "cell_type": "code",
   "execution_count": 7,
   "metadata": {},
   "outputs": [
    {
     "name": "stdout",
     "output_type": "stream",
     "text": [
      "29\n",
      "68\n",
      "70\n"
     ]
    }
   ],
   "source": [
    "print(len(suppliers))\n",
    "print(len(products))\n",
    "print(len(sup_prod_left))"
   ]
  },
  {
   "cell_type": "markdown",
   "metadata": {},
   "source": [
    "## Exercise 9"
   ]
  },
  {
   "cell_type": "code",
   "execution_count": 8,
   "metadata": {},
   "outputs": [
    {
     "data": {
      "text/html": [
       "<div>\n",
       "<style scoped>\n",
       "    .dataframe tbody tr th:only-of-type {\n",
       "        vertical-align: middle;\n",
       "    }\n",
       "\n",
       "    .dataframe tbody tr th {\n",
       "        vertical-align: top;\n",
       "    }\n",
       "\n",
       "    .dataframe thead th {\n",
       "        text-align: right;\n",
       "    }\n",
       "</style>\n",
       "<table border=\"1\" class=\"dataframe\">\n",
       "  <thead>\n",
       "    <tr style=\"text-align: right;\">\n",
       "      <th></th>\n",
       "      <th>SupplierID</th>\n",
       "      <th>CompanyName</th>\n",
       "      <th>City</th>\n",
       "      <th>ProductID</th>\n",
       "      <th>ProductName</th>\n",
       "      <th>_merge</th>\n",
       "    </tr>\n",
       "  </thead>\n",
       "  <tbody>\n",
       "    <tr>\n",
       "      <th>2</th>\n",
       "      <td>2</td>\n",
       "      <td>New Orleans Cajun Delights</td>\n",
       "      <td>New Orleans</td>\n",
       "      <td>NaN</td>\n",
       "      <td>NaN</td>\n",
       "      <td>left_only</td>\n",
       "    </tr>\n",
       "    <tr>\n",
       "      <th>67</th>\n",
       "      <td>27</td>\n",
       "      <td>Escargots Nouveaux</td>\n",
       "      <td>Montceau</td>\n",
       "      <td>NaN</td>\n",
       "      <td>NaN</td>\n",
       "      <td>left_only</td>\n",
       "    </tr>\n",
       "  </tbody>\n",
       "</table>\n",
       "</div>"
      ],
      "text/plain": [
       "    SupplierID                 CompanyName         City  ProductID  \\\n",
       "2            2  New Orleans Cajun Delights  New Orleans        NaN   \n",
       "67          27          Escargots Nouveaux     Montceau        NaN   \n",
       "\n",
       "   ProductName     _merge  \n",
       "2          NaN  left_only  \n",
       "67         NaN  left_only  "
      ]
     },
     "execution_count": 8,
     "metadata": {},
     "output_type": "execute_result"
    }
   ],
   "source": [
    "filter = sup_prod_left[\"_merge\"] == \"left_only\"\n",
    "sup_prod_left[filter]"
   ]
  },
  {
   "cell_type": "markdown",
   "metadata": {},
   "source": [
    "## Exercise 10"
   ]
  },
  {
   "cell_type": "code",
   "execution_count": 9,
   "metadata": {},
   "outputs": [
    {
     "data": {
      "text/html": [
       "<div>\n",
       "<style scoped>\n",
       "    .dataframe tbody tr th:only-of-type {\n",
       "        vertical-align: middle;\n",
       "    }\n",
       "\n",
       "    .dataframe tbody tr th {\n",
       "        vertical-align: top;\n",
       "    }\n",
       "\n",
       "    .dataframe thead th {\n",
       "        text-align: right;\n",
       "    }\n",
       "</style>\n",
       "<table border=\"1\" class=\"dataframe\">\n",
       "  <thead>\n",
       "    <tr style=\"text-align: right;\">\n",
       "      <th></th>\n",
       "      <th>ProductID</th>\n",
       "      <th>ProductName</th>\n",
       "      <th>SupplierID</th>\n",
       "      <th>CompanyName</th>\n",
       "      <th>City</th>\n",
       "      <th>_merge</th>\n",
       "    </tr>\n",
       "  </thead>\n",
       "  <tbody>\n",
       "    <tr>\n",
       "      <th>0</th>\n",
       "      <td>1.0</td>\n",
       "      <td>Chai</td>\n",
       "      <td>1</td>\n",
       "      <td>Exotic Liquids</td>\n",
       "      <td>London</td>\n",
       "      <td>both</td>\n",
       "    </tr>\n",
       "    <tr>\n",
       "      <th>1</th>\n",
       "      <td>2.0</td>\n",
       "      <td>Chang</td>\n",
       "      <td>1</td>\n",
       "      <td>Exotic Liquids</td>\n",
       "      <td>London</td>\n",
       "      <td>both</td>\n",
       "    </tr>\n",
       "    <tr>\n",
       "      <th>2</th>\n",
       "      <td>6.0</td>\n",
       "      <td>Grandma's Boysenberry Spread</td>\n",
       "      <td>3</td>\n",
       "      <td>Grandma Kelly's Homestead</td>\n",
       "      <td>Ann Arbor</td>\n",
       "      <td>both</td>\n",
       "    </tr>\n",
       "    <tr>\n",
       "      <th>3</th>\n",
       "      <td>7.0</td>\n",
       "      <td>Uncle Bob's Organic Dried Pears</td>\n",
       "      <td>3</td>\n",
       "      <td>Grandma Kelly's Homestead</td>\n",
       "      <td>Ann Arbor</td>\n",
       "      <td>both</td>\n",
       "    </tr>\n",
       "    <tr>\n",
       "      <th>4</th>\n",
       "      <td>8.0</td>\n",
       "      <td>Northwoods Cranberry Sauce</td>\n",
       "      <td>3</td>\n",
       "      <td>Grandma Kelly's Homestead</td>\n",
       "      <td>Ann Arbor</td>\n",
       "      <td>both</td>\n",
       "    </tr>\n",
       "  </tbody>\n",
       "</table>\n",
       "</div>"
      ],
      "text/plain": [
       "   ProductID                      ProductName  SupplierID  \\\n",
       "0        1.0                             Chai           1   \n",
       "1        2.0                            Chang           1   \n",
       "2        6.0     Grandma's Boysenberry Spread           3   \n",
       "3        7.0  Uncle Bob's Organic Dried Pears           3   \n",
       "4        8.0       Northwoods Cranberry Sauce           3   \n",
       "\n",
       "                 CompanyName       City _merge  \n",
       "0             Exotic Liquids     London   both  \n",
       "1             Exotic Liquids     London   both  \n",
       "2  Grandma Kelly's Homestead  Ann Arbor   both  \n",
       "3  Grandma Kelly's Homestead  Ann Arbor   both  \n",
       "4  Grandma Kelly's Homestead  Ann Arbor   both  "
      ]
     },
     "execution_count": 9,
     "metadata": {},
     "output_type": "execute_result"
    }
   ],
   "source": [
    "prod_sup_right = products.merge(suppliers, how='right', on='SupplierID',indicator=True)\n",
    "prod_sup_right.head()"
   ]
  },
  {
   "cell_type": "code",
   "execution_count": 10,
   "metadata": {},
   "outputs": [
    {
     "name": "stdout",
     "output_type": "stream",
     "text": [
      "29\n",
      "68\n",
      "70\n"
     ]
    }
   ],
   "source": [
    "print(len(suppliers))\n",
    "print(len(products))\n",
    "print(len(prod_sup_right))"
   ]
  },
  {
   "cell_type": "code",
   "execution_count": 11,
   "metadata": {},
   "outputs": [
    {
     "data": {
      "text/html": [
       "<div>\n",
       "<style scoped>\n",
       "    .dataframe tbody tr th:only-of-type {\n",
       "        vertical-align: middle;\n",
       "    }\n",
       "\n",
       "    .dataframe tbody tr th {\n",
       "        vertical-align: top;\n",
       "    }\n",
       "\n",
       "    .dataframe thead th {\n",
       "        text-align: right;\n",
       "    }\n",
       "</style>\n",
       "<table border=\"1\" class=\"dataframe\">\n",
       "  <thead>\n",
       "    <tr style=\"text-align: right;\">\n",
       "      <th></th>\n",
       "      <th>ProductID</th>\n",
       "      <th>ProductName</th>\n",
       "      <th>SupplierID</th>\n",
       "      <th>CompanyName</th>\n",
       "      <th>City</th>\n",
       "      <th>_merge</th>\n",
       "    </tr>\n",
       "  </thead>\n",
       "  <tbody>\n",
       "    <tr>\n",
       "      <th>68</th>\n",
       "      <td>NaN</td>\n",
       "      <td>NaN</td>\n",
       "      <td>2</td>\n",
       "      <td>New Orleans Cajun Delights</td>\n",
       "      <td>New Orleans</td>\n",
       "      <td>right_only</td>\n",
       "    </tr>\n",
       "    <tr>\n",
       "      <th>69</th>\n",
       "      <td>NaN</td>\n",
       "      <td>NaN</td>\n",
       "      <td>27</td>\n",
       "      <td>Escargots Nouveaux</td>\n",
       "      <td>Montceau</td>\n",
       "      <td>right_only</td>\n",
       "    </tr>\n",
       "  </tbody>\n",
       "</table>\n",
       "</div>"
      ],
      "text/plain": [
       "    ProductID ProductName  SupplierID                 CompanyName  \\\n",
       "68        NaN         NaN           2  New Orleans Cajun Delights   \n",
       "69        NaN         NaN          27          Escargots Nouveaux   \n",
       "\n",
       "           City      _merge  \n",
       "68  New Orleans  right_only  \n",
       "69     Montceau  right_only  "
      ]
     },
     "execution_count": 11,
     "metadata": {},
     "output_type": "execute_result"
    }
   ],
   "source": [
    "filter = prod_sup_right[\"_merge\"] == \"right_only\"\n",
    "prod_sup_right[filter]"
   ]
  }
 ],
 "metadata": {
  "kernelspec": {
   "display_name": "Python 3",
   "language": "python",
   "name": "python3"
  },
  "language_info": {
   "codemirror_mode": {
    "name": "ipython",
    "version": 3
   },
   "file_extension": ".py",
   "mimetype": "text/x-python",
   "name": "python",
   "nbconvert_exporter": "python",
   "pygments_lexer": "ipython3",
   "version": "3.7.5"
  }
 },
 "nbformat": 4,
 "nbformat_minor": 2
}
